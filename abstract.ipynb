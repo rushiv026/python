{
 "cells": [
  {
   "cell_type": "code",
   "execution_count": 12,
   "id": "4934c387-149c-4a11-90e2-fac748fe2d59",
   "metadata": {},
   "outputs": [],
   "source": [
    "#abstract is crete the skeletan of th class .\n",
    "import abc\n",
    "class student_method:\n",
    "    @abc.abstractmethod\n",
    "    def student_details(self):\n",
    "        pass\n",
    "    @abc.abstractmethod\n",
    "    def aiclass_work(self,a,b):\n",
    "        pass"
   ]
  },
  {
   "cell_type": "code",
   "execution_count": null,
   "id": "891f51d8-7274-4828-9f1f-77ff47d98f00",
   "metadata": {},
   "outputs": [],
   "source": []
  },
  {
   "cell_type": "code",
   "execution_count": 35,
   "id": "6d5e9667-6473-4622-bb53-e479b21741bf",
   "metadata": {},
   "outputs": [],
   "source": [
    "class data_master(student_method):\n",
    "    def student_details(self):\n",
    "        return \"this is student details\"\n",
    "    def aiclass_work(self,a,b):\n",
    "        return a+b"
   ]
  },
  {
   "cell_type": "code",
   "execution_count": 36,
   "id": "1973cf7b-c79f-47e7-baf2-90994b05f744",
   "metadata": {},
   "outputs": [],
   "source": [
    "class my(student_method):\n",
    "    def student_details(self):\n",
    "        return \"my name is rushikesh\"\n",
    "    def aiclass_work(self,a,b):\n",
    "        return a*b\n",
    "        "
   ]
  },
  {
   "cell_type": "code",
   "execution_count": 37,
   "id": "d2cd15c9-31a3-4129-9295-0d46f5e3fef9",
   "metadata": {},
   "outputs": [],
   "source": [
    "dm=data_master()"
   ]
  },
  {
   "cell_type": "code",
   "execution_count": 38,
   "id": "103d6731-c53f-4ca1-98ba-4053004113a1",
   "metadata": {},
   "outputs": [
    {
     "data": {
      "text/plain": [
       "'this is student details'"
      ]
     },
     "execution_count": 38,
     "metadata": {},
     "output_type": "execute_result"
    }
   ],
   "source": [
    "dm.student_details()"
   ]
  },
  {
   "cell_type": "code",
   "execution_count": 39,
   "id": "c1d7358b-893a-4575-97f3-f98abba1e3e1",
   "metadata": {},
   "outputs": [
    {
     "data": {
      "text/plain": [
       "40"
      ]
     },
     "execution_count": 39,
     "metadata": {},
     "output_type": "execute_result"
    }
   ],
   "source": [
    "dm.aiclass_work(20,20)"
   ]
  },
  {
   "cell_type": "code",
   "execution_count": 40,
   "id": "1447a490-c746-4bcb-b67b-85b9989d389a",
   "metadata": {},
   "outputs": [
    {
     "data": {
      "text/plain": [
       "30"
      ]
     },
     "execution_count": 40,
     "metadata": {},
     "output_type": "execute_result"
    }
   ],
   "source": [
    "dm.aiclass_work(10,20)"
   ]
  },
  {
   "cell_type": "code",
   "execution_count": 41,
   "id": "44408a6c-7ac6-4ebd-9107-c9a775d1629f",
   "metadata": {},
   "outputs": [],
   "source": [
    "m=my()"
   ]
  },
  {
   "cell_type": "code",
   "execution_count": 42,
   "id": "136fbb13-6676-4a65-be1b-2c3766909a33",
   "metadata": {},
   "outputs": [
    {
     "data": {
      "text/plain": [
       "'my name is rushikesh'"
      ]
     },
     "execution_count": 42,
     "metadata": {},
     "output_type": "execute_result"
    }
   ],
   "source": [
    "m.student_details()"
   ]
  },
  {
   "cell_type": "code",
   "execution_count": 43,
   "id": "98c16ed3-d87a-4f51-804b-c7cc0986caf2",
   "metadata": {},
   "outputs": [
    {
     "data": {
      "text/plain": [
       "242"
      ]
     },
     "execution_count": 43,
     "metadata": {},
     "output_type": "execute_result"
    }
   ],
   "source": [
    "m.aiclass_work(11,22)"
   ]
  },
  {
   "cell_type": "code",
   "execution_count": null,
   "id": "12872189-58a6-49c5-a606-0c21afd91dba",
   "metadata": {},
   "outputs": [],
   "source": []
  }
 ],
 "metadata": {
  "kernelspec": {
   "display_name": "Python 3 (ipykernel)",
   "language": "python",
   "name": "python3"
  },
  "language_info": {
   "codemirror_mode": {
    "name": "ipython",
    "version": 3
   },
   "file_extension": ".py",
   "mimetype": "text/x-python",
   "name": "python",
   "nbconvert_exporter": "python",
   "pygments_lexer": "ipython3",
   "version": "3.10.8"
  }
 },
 "nbformat": 4,
 "nbformat_minor": 5
}
