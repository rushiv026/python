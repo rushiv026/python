{
 "cells": [
  {
   "cell_type": "code",
   "execution_count": 3,
   "id": "687e05a1-f399-4e19-9663-4abe4ca23679",
   "metadata": {},
   "outputs": [
    {
     "ename": "SyntaxError",
     "evalue": "incomplete input (1655122075.py, line 3)",
     "output_type": "error",
     "traceback": [
      "\u001b[0;36m  Cell \u001b[0;32mIn[3], line 3\u001b[0;36m\u001b[0m\n\u001b[0;31m    \u001b[0m\n\u001b[0m    ^\u001b[0m\n\u001b[0;31mSyntaxError\u001b[0m\u001b[0;31m:\u001b[0m incomplete input\n"
     ]
    }
   ],
   "source": [
    "#define function\n",
    "def test():\n",
    "    "
   ]
  },
  {
   "cell_type": "code",
   "execution_count": 4,
   "id": "c1c58aca-b879-4298-b31f-5a1cf396c1b9",
   "metadata": {},
   "outputs": [],
   "source": [
    "def test1():\n",
    "    pass\n",
    "    "
   ]
  },
  {
   "cell_type": "code",
   "execution_count": 5,
   "id": "07b84366-06fa-4ca1-bcc4-0c295e1ee6fd",
   "metadata": {},
   "outputs": [],
   "source": [
    "def test2():\n",
    "    a,b,c=8,3,5\n",
    "    s=a+b*c\n",
    "    print(s)\n",
    "    "
   ]
  },
  {
   "cell_type": "code",
   "execution_count": 8,
   "id": "596dc44e-1ab4-4eb0-9faa-1de37aa1a49c",
   "metadata": {},
   "outputs": [
    {
     "name": "stdout",
     "output_type": "stream",
     "text": [
      "23\n"
     ]
    }
   ],
   "source": [
    "test2()"
   ]
  },
  {
   "cell_type": "code",
   "execution_count": 9,
   "id": "dd0e00cd-08a9-4e90-be62-3558bd156dee",
   "metadata": {},
   "outputs": [
    {
     "name": "stdout",
     "output_type": "stream",
     "text": [
      "23\n"
     ]
    },
    {
     "ename": "TypeError",
     "evalue": "unsupported operand type(s) for +: 'NoneType' and 'int'",
     "output_type": "error",
     "traceback": [
      "\u001b[0;31m---------------------------------------------------------------------------\u001b[0m",
      "\u001b[0;31mTypeError\u001b[0m                                 Traceback (most recent call last)",
      "Cell \u001b[0;32mIn[9], line 1\u001b[0m\n\u001b[0;32m----> 1\u001b[0m \u001b[43mtest2\u001b[49m\u001b[43m(\u001b[49m\u001b[43m)\u001b[49m\u001b[38;5;241;43m+\u001b[39;49m\u001b[38;5;241;43m10\u001b[39;49m\n",
      "\u001b[0;31mTypeError\u001b[0m: unsupported operand type(s) for +: 'NoneType' and 'int'"
     ]
    }
   ],
   "source": [
    "test2()+10"
   ]
  },
  {
   "cell_type": "code",
   "execution_count": 10,
   "id": "eca994c8-0dc3-4d00-8336-770f08267687",
   "metadata": {},
   "outputs": [],
   "source": [
    "def test3():\n",
    "    a,b,c=8,3,5\n",
    "    s=a+b*c\n",
    "    return s"
   ]
  },
  {
   "cell_type": "code",
   "execution_count": 11,
   "id": "f71aff30-7f2c-4378-968d-d0a80991d1fd",
   "metadata": {},
   "outputs": [
    {
     "data": {
      "text/plain": [
       "23"
      ]
     },
     "execution_count": 11,
     "metadata": {},
     "output_type": "execute_result"
    }
   ],
   "source": [
    "test3()"
   ]
  },
  {
   "cell_type": "code",
   "execution_count": 12,
   "id": "b36224aa-5b02-434a-b380-49e772cbf520",
   "metadata": {},
   "outputs": [
    {
     "data": {
      "text/plain": [
       "33"
      ]
     },
     "execution_count": 12,
     "metadata": {},
     "output_type": "execute_result"
    }
   ],
   "source": [
    "test3()+10"
   ]
  },
  {
   "cell_type": "code",
   "execution_count": 13,
   "id": "ce042490-aead-45c3-ac92-220490c699d7",
   "metadata": {},
   "outputs": [],
   "source": [
    "m=80"
   ]
  },
  {
   "cell_type": "code",
   "execution_count": 15,
   "id": "4c338e0c-88c1-4056-8427-c0f5df75c991",
   "metadata": {},
   "outputs": [],
   "source": [
    "def test4(m):\n",
    "    if m>=75:\n",
    "        return \"first class\"\n",
    "    elif m>=60 and m<75:\n",
    "        return \"second class\"\n",
    "    else:\n",
    "        return \"fail\""
   ]
  },
  {
   "cell_type": "code",
   "execution_count": 16,
   "id": "c131fad1-d88a-4946-9a55-bca866e780ef",
   "metadata": {},
   "outputs": [
    {
     "data": {
      "text/plain": [
       "'first class'"
      ]
     },
     "execution_count": 16,
     "metadata": {},
     "output_type": "execute_result"
    }
   ],
   "source": [
    "test4(80)"
   ]
  },
  {
   "cell_type": "code",
   "execution_count": 18,
   "id": "69b792dc-4ccb-45da-9cbf-9c2cebc4c30b",
   "metadata": {},
   "outputs": [
    {
     "data": {
      "text/plain": [
       "'second class'"
      ]
     },
     "execution_count": 18,
     "metadata": {},
     "output_type": "execute_result"
    }
   ],
   "source": [
    "test4(61)"
   ]
  },
  {
   "cell_type": "code",
   "execution_count": 19,
   "id": "5f1a538f-af28-4ace-b8a0-cc745b7dc65a",
   "metadata": {},
   "outputs": [
    {
     "data": {
      "text/plain": [
       "'fail'"
      ]
     },
     "execution_count": 19,
     "metadata": {},
     "output_type": "execute_result"
    }
   ],
   "source": [
    "test4(40)"
   ]
  },
  {
   "cell_type": "code",
   "execution_count": 22,
   "id": "2f71c91c-017f-4d06-b033-a5054d2c6da0",
   "metadata": {},
   "outputs": [
    {
     "data": {
      "text/plain": [
       "'fail'"
      ]
     },
     "execution_count": 22,
     "metadata": {},
     "output_type": "execute_result"
    }
   ],
   "source": [
    "test4(-13)"
   ]
  },
  {
   "cell_type": "code",
   "execution_count": 23,
   "id": "4993d9e5-f304-4735-8165-7fc0c6ca6cca",
   "metadata": {},
   "outputs": [],
   "source": [
    "l=[1,2,3,4,'rushi','rahul',[7,8,9,2]]"
   ]
  },
  {
   "cell_type": "code",
   "execution_count": 28,
   "id": "3fce8232-bfd3-46d5-a3cc-ad54f1f119cd",
   "metadata": {},
   "outputs": [
    {
     "data": {
      "text/plain": [
       "[1, 2, 3, 4, 'rushi', 'rahul', [7, 8, 9, 2]]"
      ]
     },
     "execution_count": 28,
     "metadata": {},
     "output_type": "execute_result"
    }
   ],
   "source": [
    "l"
   ]
  },
  {
   "cell_type": "code",
   "execution_count": 60,
   "id": "a7c6e1f1-ab49-44dd-bd6c-c32b3de97782",
   "metadata": {},
   "outputs": [],
   "source": [
    "def test5(l):\n",
    "    k=[]\n",
    "    for i in l:\n",
    "        if type(i)==int and type(i)==float:\n",
    "            k.append(i)\n",
    "    return k      "
   ]
  },
  {
   "cell_type": "code",
   "execution_count": 31,
   "id": "6dd2523e-18d4-4b7a-9e06-9f2210356a02",
   "metadata": {},
   "outputs": [],
   "source": [
    "l3=[83,40,'rush']"
   ]
  },
  {
   "cell_type": "code",
   "execution_count": 61,
   "id": "c0f6783b-ca82-4054-a380-739eb633b3b4",
   "metadata": {},
   "outputs": [
    {
     "data": {
      "text/plain": [
       "[83, 40, 'rush']"
      ]
     },
     "execution_count": 61,
     "metadata": {},
     "output_type": "execute_result"
    }
   ],
   "source": [
    "l3"
   ]
  },
  {
   "cell_type": "code",
   "execution_count": 62,
   "id": "d4183656-c91b-4a72-b22e-bf0dcc39517c",
   "metadata": {},
   "outputs": [
    {
     "data": {
      "text/plain": [
       "[]"
      ]
     },
     "execution_count": 62,
     "metadata": {},
     "output_type": "execute_result"
    }
   ],
   "source": [
    "test5(l3)"
   ]
  },
  {
   "cell_type": "code",
   "execution_count": 44,
   "id": "a2a91e4e-3f45-4c3d-981b-c636b1bc41c1",
   "metadata": {},
   "outputs": [
    {
     "ename": "NameError",
     "evalue": "name 'l2' is not defined",
     "output_type": "error",
     "traceback": [
      "\u001b[0;31m---------------------------------------------------------------------------\u001b[0m",
      "\u001b[0;31mNameError\u001b[0m                                 Traceback (most recent call last)",
      "Cell \u001b[0;32mIn[44], line 1\u001b[0m\n\u001b[0;32m----> 1\u001b[0m \u001b[43ml2\u001b[49m\n",
      "\u001b[0;31mNameError\u001b[0m: name 'l2' is not defined"
     ]
    }
   ],
   "source": [
    "l2"
   ]
  },
  {
   "cell_type": "code",
   "execution_count": 54,
   "id": "5f4c140a-8eb0-453e-b641-dd1e916eaf90",
   "metadata": {},
   "outputs": [],
   "source": [
    "def test6(l):\n",
    "    h=[]\n",
    "    for i in l:\n",
    "        if type(i)==int or type(i)==float:\n",
    "            h.append(i)\n",
    "        else:\n",
    "            pass\n",
    "    return h   "
   ]
  },
  {
   "cell_type": "code",
   "execution_count": 55,
   "id": "6c8d1bb0-7c5c-4772-b03a-3a2ea50ea8b5",
   "metadata": {},
   "outputs": [
    {
     "data": {
      "text/plain": [
       "[1, 2, 3, 4]"
      ]
     },
     "execution_count": 55,
     "metadata": {},
     "output_type": "execute_result"
    }
   ],
   "source": [
    "test6(l)"
   ]
  },
  {
   "cell_type": "code",
   "execution_count": 65,
   "id": "f855047d-2742-4297-b117-3efa6f385975",
   "metadata": {},
   "outputs": [
    {
     "data": {
      "text/plain": [
       "[83, 40]"
      ]
     },
     "execution_count": 65,
     "metadata": {},
     "output_type": "execute_result"
    }
   ],
   "source": [
    "test6(l3)"
   ]
  },
  {
   "cell_type": "code",
   "execution_count": 71,
   "id": "487c70a6-77a0-4746-9b98-a001fc510386",
   "metadata": {},
   "outputs": [],
   "source": [
    "def test5(l):\n",
    "    u=[]\n",
    "    for i in l:\n",
    "        if type(i)==int or type(i)==float:\n",
    "            u.append(i)\n",
    "    return u      "
   ]
  },
  {
   "cell_type": "code",
   "execution_count": 72,
   "id": "06123ac9-135b-4a9d-8365-1a630e7d1a80",
   "metadata": {},
   "outputs": [
    {
     "data": {
      "text/plain": [
       "[83, 40]"
      ]
     },
     "execution_count": 72,
     "metadata": {},
     "output_type": "execute_result"
    }
   ],
   "source": [
    "test5(l3)"
   ]
  },
  {
   "cell_type": "code",
   "execution_count": 73,
   "id": "13f6d797-62a2-4b90-931e-ef03d7923695",
   "metadata": {},
   "outputs": [],
   "source": [
    "m=[1,2,3,4,'rushi','abc',[23,56,8,9,0]]"
   ]
  },
  {
   "cell_type": "code",
   "execution_count": 82,
   "id": "be954b32-d002-4b5b-9b31-b1e194a178e9",
   "metadata": {},
   "outputs": [
    {
     "data": {
      "text/plain": [
       "[1, 2, 3, 4, 'rushi', 'abc', [23, 56, 8, 9, 0]]"
      ]
     },
     "execution_count": 82,
     "metadata": {},
     "output_type": "execute_result"
    }
   ],
   "source": [
    "m"
   ]
  },
  {
   "cell_type": "code",
   "execution_count": 90,
   "id": "d549accf-15af-4325-88cc-26ad08a9bc76",
   "metadata": {},
   "outputs": [],
   "source": [
    "def test8(m):\n",
    "    m1=[]\n",
    "    for i in m:\n",
    "        if type(i)== list:\n",
    "            for j in i:\n",
    "                m1.append(j)\n",
    "        else:\n",
    "            if type(i)== int or type(i)== float:\n",
    "                m1.append(i)\n",
    "    return m1\n",
    "        "
   ]
  },
  {
   "cell_type": "code",
   "execution_count": 91,
   "id": "24ceacfc-15bb-4786-a57c-1294b3e1f575",
   "metadata": {},
   "outputs": [
    {
     "data": {
      "text/plain": [
       "[1, 2, 3, 4, 23, 56, 8, 9, 0]"
      ]
     },
     "execution_count": 91,
     "metadata": {},
     "output_type": "execute_result"
    }
   ],
   "source": [
    "test8(m)"
   ]
  },
  {
   "cell_type": "code",
   "execution_count": 94,
   "id": "4635889a-c4c2-4d2a-85c8-d4d77d7d493d",
   "metadata": {},
   "outputs": [],
   "source": [
    "def test9(*args):\n",
    "    \n",
    "    return args"
   ]
  },
  {
   "cell_type": "code",
   "execution_count": 96,
   "id": "a8edae0c-c2c5-40bb-bb1d-af4e61b5cd37",
   "metadata": {},
   "outputs": [
    {
     "data": {
      "text/plain": [
       "(1, 3, 4, 4, [234, 4, 4])"
      ]
     },
     "execution_count": 96,
     "metadata": {},
     "output_type": "execute_result"
    }
   ],
   "source": [
    "test9(1,3,4,4,[234,4,4])"
   ]
  },
  {
   "cell_type": "code",
   "execution_count": 97,
   "id": "9b3cf71b-1158-4287-bce2-8120eda779ec",
   "metadata": {},
   "outputs": [
    {
     "data": {
      "text/plain": [
       "(1, 2, 3, {1, 2, 3})"
      ]
     },
     "execution_count": 97,
     "metadata": {},
     "output_type": "execute_result"
    }
   ],
   "source": [
    "test9(1,2,3,{1,2,2,3,3})"
   ]
  },
  {
   "cell_type": "code",
   "execution_count": 107,
   "id": "27654d76-29cf-49a9-9a2b-5ed4a7b94eec",
   "metadata": {},
   "outputs": [],
   "source": [
    "def test10(*rush):\n",
    "    return rush"
   ]
  },
  {
   "cell_type": "code",
   "execution_count": 108,
   "id": "33b602cd-40b0-4368-b6f1-d8eae19672c6",
   "metadata": {},
   "outputs": [
    {
     "data": {
      "text/plain": [
       "function"
      ]
     },
     "execution_count": 108,
     "metadata": {},
     "output_type": "execute_result"
    }
   ],
   "source": [
    "type(test10)"
   ]
  },
  {
   "cell_type": "code",
   "execution_count": 109,
   "id": "b64847f6-3392-4650-9014-ec1c2edae1ba",
   "metadata": {},
   "outputs": [
    {
     "data": {
      "text/plain": [
       "(1, 2, 3, 4, 4)"
      ]
     },
     "execution_count": 109,
     "metadata": {},
     "output_type": "execute_result"
    }
   ],
   "source": [
    "test10(1,2,3,4,4)"
   ]
  },
  {
   "cell_type": "code",
   "execution_count": 111,
   "id": "58dc02e8-8b74-49df-a887-03d6a9044ffa",
   "metadata": {},
   "outputs": [],
   "source": [
    "def test12(**ru):\n",
    "    return ru"
   ]
  },
  {
   "cell_type": "code",
   "execution_count": 112,
   "id": "2d0e1e50-1940-4de1-bc94-50111fa7a1c2",
   "metadata": {},
   "outputs": [
    {
     "data": {
      "text/plain": [
       "{'a': ['ruhi', 'rh'], 'r': 12}"
      ]
     },
     "execution_count": 112,
     "metadata": {},
     "output_type": "execute_result"
    }
   ],
   "source": [
    "test12(a=[\"ruhi\",\"rh\"],r=12)"
   ]
  },
  {
   "cell_type": "code",
   "execution_count": null,
   "id": "52105c91-cbac-4b9a-ad32-d8338df50441",
   "metadata": {},
   "outputs": [],
   "source": []
  }
 ],
 "metadata": {
  "kernelspec": {
   "display_name": "Python 3 (ipykernel)",
   "language": "python",
   "name": "python3"
  },
  "language_info": {
   "codemirror_mode": {
    "name": "ipython",
    "version": 3
   },
   "file_extension": ".py",
   "mimetype": "text/x-python",
   "name": "python",
   "nbconvert_exporter": "python",
   "pygments_lexer": "ipython3",
   "version": "3.10.8"
  }
 },
 "nbformat": 4,
 "nbformat_minor": 5
}
