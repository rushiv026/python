{
 "cells": [
  {
   "cell_type": "code",
   "execution_count": 1,
   "id": "cd789c9a-6ff7-4a69-8134-8dc369a2e164",
   "metadata": {},
   "outputs": [],
   "source": [
    "#hindding data from user\n",
    "#Encapsulation is a way to restrict the direct access to some components of an object\n",
    "\n",
    "class test:\n",
    "    \n",
    "    def __init__(self,rollno,name,age):\n",
    "        self.rollno=rollno\n",
    "        self.name=name\n",
    "        self.age=age\n",
    "        "
   ]
  },
  {
   "cell_type": "code",
   "execution_count": 21,
   "id": "998c7385-319a-40d1-bea2-a5d5c3bb903a",
   "metadata": {},
   "outputs": [],
   "source": [
    "t=test(10,\"rushi\",21)"
   ]
  },
  {
   "cell_type": "code",
   "execution_count": 74,
   "id": "6b8f19ac-a99b-46ce-83ca-7974887f1711",
   "metadata": {},
   "outputs": [
    {
     "data": {
      "text/plain": [
       "<__main__.test at 0x7f9c675a42b0>"
      ]
     },
     "execution_count": 74,
     "metadata": {},
     "output_type": "execute_result"
    }
   ],
   "source": [
    "t"
   ]
  },
  {
   "cell_type": "code",
   "execution_count": 7,
   "id": "2cb6b594-af6a-4576-8459-3ced2f3bb663",
   "metadata": {},
   "outputs": [
    {
     "data": {
      "text/plain": [
       "21"
      ]
     },
     "execution_count": 94,
     "metadata": {},
     "output_type": "execute_result"
    }
   ],
   "source": [
    "t.age\n"
   ]
  },
  {
   "cell_type": "code",
   "execution_count": 10,
   "id": "a8da2d9b-a2d1-4175-ae01-59a2b6134608",
   "metadata": {},
   "outputs": [
    {
     "data": {
      "text/plain": [
       "10"
      ]
     },
     "execution_count": 10,
     "metadata": {},
     "output_type": "execute_result"
    }
   ],
   "source": [
    "t.rollno\n"
   ]
  },
  {
   "cell_type": "code",
   "execution_count": 11,
   "id": "95ee0950-8f92-4c56-b0d6-47fc7b1fe861",
   "metadata": {},
   "outputs": [
    {
     "data": {
      "text/plain": [
       "'rushi'"
      ]
     },
     "execution_count": 11,
     "metadata": {},
     "output_type": "execute_result"
    }
   ],
   "source": [
    "t.name#usser can acess or modify varain]ble value hiddeing the varaible you can use encapsulation"
   ]
  },
  {
   "cell_type": "code",
   "execution_count": 63,
   "id": "e6fe169f-9f39-44ff-a040-fafc1b41609c",
   "metadata": {},
   "outputs": [],
   "source": [
    "#ex\n",
    "class product:\n",
    "    \n",
    "    def __init__(self,product_id,name,price,year):\n",
    "        self.__product_id=product_id\n",
    "        self.__name=name\n",
    "        self.__price=price\n",
    "        self.__year=year\n",
    "        \n",
    "    def set_year(self,year):\n",
    "            self.__year=0 if year<0 else year\n",
    "            \n",
    "            \n",
    "    def get_year(self):\n",
    "            return self.__year"
   ]
  },
  {
   "cell_type": "code",
   "execution_count": 64,
   "id": "52d7b196-e8be-4ec3-abe2-2a842bdace19",
   "metadata": {},
   "outputs": [],
   "source": [
    "c=product(10,\"sugar\",40,2023)"
   ]
  },
  {
   "cell_type": "code",
   "execution_count": 52,
   "id": "6eadda3a-2420-48c8-87ec-3f93aca11cda",
   "metadata": {},
   "outputs": [
    {
     "name": "stdout",
     "output_type": "stream",
     "text": [
      "<__main__.product object at 0x7f9c677d5000>\n"
     ]
    }
   ],
   "source": [
    "print(c)"
   ]
  },
  {
   "cell_type": "code",
   "execution_count": 53,
   "id": "5273ea92-e919-413f-8953-780e91b78252",
   "metadata": {},
   "outputs": [
    {
     "data": {
      "text/plain": [
       "'sugar'"
      ]
     },
     "execution_count": 53,
     "metadata": {},
     "output_type": "execute_result"
    }
   ],
   "source": [
    "c._product__name"
   ]
  },
  {
   "cell_type": "code",
   "execution_count": 54,
   "id": "3f110f91-fbdd-4328-9a10-4ff4726e6cb4",
   "metadata": {},
   "outputs": [
    {
     "ename": "AttributeError",
     "evalue": "'product' object has no attribute '_product_name'",
     "output_type": "error",
     "traceback": [
      "\u001b[0;31m---------------------------------------------------------------------------\u001b[0m",
      "\u001b[0;31mAttributeError\u001b[0m                            Traceback (most recent call last)",
      "Cell \u001b[0;32mIn[54], line 1\u001b[0m\n\u001b[0;32m----> 1\u001b[0m \u001b[43mc\u001b[49m\u001b[38;5;241;43m.\u001b[39;49m\u001b[43m_product_name\u001b[49m\n",
      "\u001b[0;31mAttributeError\u001b[0m: 'product' object has no attribute '_product_name'"
     ]
    }
   ],
   "source": [
    "c._product_name"
   ]
  },
  {
   "cell_type": "code",
   "execution_count": 66,
   "id": "94ae6a65-bc30-4e6d-925a-d875790984fc",
   "metadata": {},
   "outputs": [],
   "source": [
    "c.set_year(-2092)"
   ]
  },
  {
   "cell_type": "code",
   "execution_count": 67,
   "id": "e63d16af-60fc-4512-b901-b373a20f70e4",
   "metadata": {},
   "outputs": [
    {
     "data": {
      "text/plain": [
       "0"
      ]
     },
     "execution_count": 67,
     "metadata": {},
     "output_type": "execute_result"
    }
   ],
   "source": [
    "c.get_year()"
   ]
  },
  {
   "cell_type": "code",
   "execution_count": 58,
   "id": "24131e53-c2d7-40a8-becb-72968a5c4c19",
   "metadata": {},
   "outputs": [],
   "source": [
    "#ex\n",
    "class product:\n",
    "    \n",
    "    def __init__(self,product_id,name,price,year):\n",
    "        self.__product_id=product_id\n",
    "        self.__name=name\n",
    "        self.__price=price\n",
    "        self.__year=year\n",
    "        \n",
    "    def set_year(self,year):\n",
    "            self.__year=0 if year<0 else year\n",
    "            \n",
    "            \n",
    "    def get_year(self):\n",
    "            return self.__year"
   ]
  },
  {
   "cell_type": "code",
   "execution_count": 59,
   "id": "04f3545c-6860-497a-bfa1-7ed49025c2a0",
   "metadata": {},
   "outputs": [],
   "source": [
    "c=product(10,\"sugar\",40,2002)"
   ]
  },
  {
   "cell_type": "code",
   "execution_count": 60,
   "id": "2f580ae9-c57f-4893-8d10-8ed1fa325a4f",
   "metadata": {},
   "outputs": [],
   "source": [
    "c.set_year(2020)"
   ]
  },
  {
   "cell_type": "code",
   "execution_count": 62,
   "id": "0729a4c6-9798-4fd6-86ae-e4ce45ea6137",
   "metadata": {},
   "outputs": [
    {
     "data": {
      "text/plain": [
       "2020"
      ]
     },
     "execution_count": 62,
     "metadata": {},
     "output_type": "execute_result"
    }
   ],
   "source": [
    "c.get_year()"
   ]
  },
  {
   "cell_type": "code",
   "execution_count": 85,
   "id": "b735a99a-1feb-4ebc-a992-ad48c0ab11db",
   "metadata": {},
   "outputs": [],
   "source": [
    "class bankaccount:\n",
    "    \n",
    "    def __init__(self,balance):\n",
    "        self.__balance=balance\n",
    "    \n",
    "    def deposit(self,amount):\n",
    "        self.__balance=self.__balance+amount\n",
    "    def withdraw(self,amount):\n",
    "        if self.__balance>amount:\n",
    "            self.__balance=self.__balance-amount\n",
    "        else:\n",
    "            print(\"balance is no enough\")\n",
    "    def get_balance(self):\n",
    "        return self.__balance"
   ]
  },
  {
   "cell_type": "code",
   "execution_count": 86,
   "id": "9b8fa1c6-27ac-467d-bf21-c6b50fae3260",
   "metadata": {},
   "outputs": [],
   "source": [
    "rushi=bankaccount(1000)"
   ]
  },
  {
   "cell_type": "code",
   "execution_count": 87,
   "id": "c9534ca8-5601-4956-bdf5-17298b0519bb",
   "metadata": {},
   "outputs": [
    {
     "data": {
      "text/plain": [
       "1000"
      ]
     },
     "execution_count": 87,
     "metadata": {},
     "output_type": "execute_result"
    }
   ],
   "source": [
    "rushi.get_balance()\n"
   ]
  },
  {
   "cell_type": "code",
   "execution_count": 88,
   "id": "5b1425ee-82ec-42d9-8b23-30cf84d97009",
   "metadata": {},
   "outputs": [],
   "source": [
    "rushi.deposit(2000)\n"
   ]
  },
  {
   "cell_type": "code",
   "execution_count": 89,
   "id": "65e980f5-3a88-40ca-9ff3-1aa023b26538",
   "metadata": {},
   "outputs": [
    {
     "data": {
      "text/plain": [
       "3000"
      ]
     },
     "execution_count": 89,
     "metadata": {},
     "output_type": "execute_result"
    }
   ],
   "source": [
    "rushi.get_balance()"
   ]
  },
  {
   "cell_type": "code",
   "execution_count": 90,
   "id": "271ed5cf-8ad7-4a7e-a644-d97a97d0f5bf",
   "metadata": {},
   "outputs": [
    {
     "name": "stdout",
     "output_type": "stream",
     "text": [
      "balance is no enough\n"
     ]
    }
   ],
   "source": [
    "rushi.withdraw(4000)"
   ]
  },
  {
   "cell_type": "code",
   "execution_count": 91,
   "id": "eb233ff2-4ea2-4b73-9050-a15e4cf29bcb",
   "metadata": {},
   "outputs": [],
   "source": [
    "rushi.withdraw(200)"
   ]
  },
  {
   "cell_type": "code",
   "execution_count": 92,
   "id": "683ecdda-86d0-4601-9450-4181efcae4a8",
   "metadata": {},
   "outputs": [
    {
     "data": {
      "text/plain": [
       "2800"
      ]
     },
     "execution_count": 93,
     "metadata": {},
     "output_type": "execute_result"
    }
   ],
   "source": [
    "rushi.get_balance"
   ]
  },
  {
   "cell_type": "code",
   "execution_count": null,
   "id": "ce0585d2-3642-4e05-9365-3401bb83f923",
   "metadata": {},
   "outputs": [],
   "source": []
  }
 ],
 "metadata": {
  "kernelspec": {
   "display_name": "Python 3 (ipykernel)",
   "language": "python",
   "name": "python3"
  },
  "language_info": {
   "codemirror_mode": {
    "name": "ipython",
    "version": 3
   },
   "file_extension": ".py",
   "mimetype": "text/x-python",
   "name": "python",
   "nbconvert_exporter": "python",
   "pygments_lexer": "ipython3",
   "version": "3.10.8"
  }
 },
 "nbformat": 4,
 "nbformat_minor": 5
}
