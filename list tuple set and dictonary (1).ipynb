{
 "cells": [
  {
   "cell_type": "code",
   "execution_count": 15,
   "id": "a8efcff5-95b9-4946-8e26-4cf1f0fa99c2",
   "metadata": {},
   "outputs": [],
   "source": [
    "#list \n",
    "l=[19,209,309.2, 3+8j,'rushi']"
   ]
  },
  {
   "cell_type": "code",
   "execution_count": 16,
   "id": "76aef811-f563-4c2e-934d-4216ae887794",
   "metadata": {},
   "outputs": [
    {
     "data": {
      "text/plain": [
       "[19, 209, 309.2, (3+8j), 'rushi']"
      ]
     },
     "execution_count": 16,
     "metadata": {},
     "output_type": "execute_result"
    }
   ],
   "source": [
    "l"
   ]
  },
  {
   "cell_type": "code",
   "execution_count": 3,
   "id": "d56fc802-214c-4b2a-b88e-22ace8117b7f",
   "metadata": {},
   "outputs": [
    {
     "data": {
      "text/plain": [
       "list"
      ]
     },
     "execution_count": 3,
     "metadata": {},
     "output_type": "execute_result"
    }
   ],
   "source": [
    "type(l)"
   ]
  },
  {
   "cell_type": "code",
   "execution_count": 5,
   "id": "b6a9c16d-82d5-4765-8569-1c32ba1f9df8",
   "metadata": {},
   "outputs": [
    {
     "data": {
      "text/plain": [
       "309.2"
      ]
     },
     "execution_count": 5,
     "metadata": {},
     "output_type": "execute_result"
    }
   ],
   "source": [
    "l[2]"
   ]
  },
  {
   "cell_type": "code",
   "execution_count": 7,
   "id": "8b793083-6cf1-4f26-b63b-8184a745120d",
   "metadata": {},
   "outputs": [
    {
     "data": {
      "text/plain": [
       "[309.2, (3+8j)]"
      ]
     },
     "execution_count": 7,
     "metadata": {},
     "output_type": "execute_result"
    }
   ],
   "source": [
    "l[2:4]"
   ]
  },
  {
   "cell_type": "code",
   "execution_count": 8,
   "id": "5761d231-71a0-452b-af22-9a1dbddea5f4",
   "metadata": {},
   "outputs": [
    {
     "data": {
      "text/plain": [
       "[19, 209, 309.2, (3+8j)]"
      ]
     },
     "execution_count": 8,
     "metadata": {},
     "output_type": "execute_result"
    }
   ],
   "source": [
    "l[:4]"
   ]
  },
  {
   "cell_type": "code",
   "execution_count": 9,
   "id": "7aefe2bc-0112-48e0-9423-ff24af094eb7",
   "metadata": {},
   "outputs": [
    {
     "data": {
      "text/plain": [
       "['rushi', (3+8j), 309.2, 209, 19]"
      ]
     },
     "execution_count": 9,
     "metadata": {},
     "output_type": "execute_result"
    }
   ],
   "source": [
    "l[::-1]"
   ]
  },
  {
   "cell_type": "code",
   "execution_count": 10,
   "id": "786cec5f-f9b8-4f2a-85db-2e9c7ba00218",
   "metadata": {},
   "outputs": [
    {
     "data": {
      "text/plain": [
       "[19, 309.2, 'rushi']"
      ]
     },
     "execution_count": 10,
     "metadata": {},
     "output_type": "execute_result"
    }
   ],
   "source": [
    "l[::2]"
   ]
  },
  {
   "cell_type": "code",
   "execution_count": 11,
   "id": "c6366dc6-7307-4c67-b0da-a28f0d806f47",
   "metadata": {},
   "outputs": [
    {
     "data": {
      "text/plain": [
       "[19, 209, 309.2, (3+8j), 'rushi']"
      ]
     },
     "execution_count": 11,
     "metadata": {},
     "output_type": "execute_result"
    }
   ],
   "source": [
    "l"
   ]
  },
  {
   "cell_type": "code",
   "execution_count": 12,
   "id": "afbd965a-e426-4cfe-b1d4-538b87ed1b52",
   "metadata": {},
   "outputs": [
    {
     "data": {
      "text/plain": [
       "[209, (3+8j)]"
      ]
     },
     "execution_count": 12,
     "metadata": {},
     "output_type": "execute_result"
    }
   ],
   "source": [
    "l[1::2]"
   ]
  },
  {
   "cell_type": "code",
   "execution_count": 13,
   "id": "ac711c4b-7727-4fa1-8f30-6db5d493c6f8",
   "metadata": {},
   "outputs": [],
   "source": [
    "s=\"ru\""
   ]
  },
  {
   "cell_type": "code",
   "execution_count": 14,
   "id": "afc2e7bf-7f9f-4368-afa8-f3a0689db7ea",
   "metadata": {},
   "outputs": [
    {
     "data": {
      "text/plain": [
       "'ru'"
      ]
     },
     "execution_count": 14,
     "metadata": {},
     "output_type": "execute_result"
    }
   ],
   "source": [
    "s"
   ]
  },
  {
   "cell_type": "code",
   "execution_count": 3,
   "id": "785deed8-a431-405b-8fb4-8e9291460fed",
   "metadata": {},
   "outputs": [],
   "source": [
    "a=[\"ruhd\",True]"
   ]
  },
  {
   "cell_type": "code",
   "execution_count": 21,
   "id": "8d14fb87-5650-435d-9d1f-98726e02f5ad",
   "metadata": {},
   "outputs": [
    {
     "data": {
      "text/plain": [
       "['ruhd', True]"
      ]
     },
     "execution_count": 21,
     "metadata": {},
     "output_type": "execute_result"
    }
   ],
   "source": [
    "a"
   ]
  },
  {
   "cell_type": "code",
   "execution_count": 22,
   "id": "5a5e2e03-3088-4e97-a730-d7e0354e2eef",
   "metadata": {},
   "outputs": [
    {
     "data": {
      "text/plain": [
       "[19, 209, 309.2, (3+8j), 'rushi', 'ruhd', True]"
      ]
     },
     "execution_count": 22,
     "metadata": {},
     "output_type": "execute_result"
    }
   ],
   "source": [
    "l+a"
   ]
  },
  {
   "cell_type": "code",
   "execution_count": 23,
   "id": "b65f4561-c0dd-43eb-8874-bbc576d92fc0",
   "metadata": {},
   "outputs": [
    {
     "data": {
      "text/plain": [
       "[19, 209, 309.2, (3+8j), 'rushi']"
      ]
     },
     "execution_count": 23,
     "metadata": {},
     "output_type": "execute_result"
    }
   ],
   "source": [
    "l"
   ]
  },
  {
   "cell_type": "code",
   "execution_count": 24,
   "id": "33c884ea-f95e-4b48-8631-2122df16ffa3",
   "metadata": {},
   "outputs": [],
   "source": [
    "d=l+a"
   ]
  },
  {
   "cell_type": "code",
   "execution_count": 25,
   "id": "d20f35d5-f334-4be8-8819-bc9752081f64",
   "metadata": {},
   "outputs": [
    {
     "data": {
      "text/plain": [
       "[19, 209, 309.2, (3+8j), 'rushi', 'ruhd', True]"
      ]
     },
     "execution_count": 25,
     "metadata": {},
     "output_type": "execute_result"
    }
   ],
   "source": [
    "d"
   ]
  },
  {
   "cell_type": "code",
   "execution_count": 26,
   "id": "12ee69ba-3186-44c9-ba63-1c7eb8ed3f9a",
   "metadata": {},
   "outputs": [
    {
     "data": {
      "text/plain": [
       "True"
      ]
     },
     "execution_count": 26,
     "metadata": {},
     "output_type": "execute_result"
    }
   ],
   "source": [
    "d[-1]"
   ]
  },
  {
   "cell_type": "code",
   "execution_count": 27,
   "id": "12cc84f0-ee2c-445f-b7b4-9ad91e0cd972",
   "metadata": {},
   "outputs": [
    {
     "data": {
      "text/plain": [
       "bool"
      ]
     },
     "execution_count": 27,
     "metadata": {},
     "output_type": "execute_result"
    }
   ],
   "source": [
    "type(d[-1])"
   ]
  },
  {
   "cell_type": "code",
   "execution_count": null,
   "id": "b111cecf-9fa8-43e9-b7fe-5bc54ee596d9",
   "metadata": {},
   "outputs": [],
   "source": [
    "d[-2][0:2]"
   ]
  },
  {
   "cell_type": "code",
   "execution_count": 4,
   "id": "562cc3af-52d9-4aed-a246-3331a2830c56",
   "metadata": {},
   "outputs": [
    {
     "data": {
      "text/plain": [
       "['ruhd', True]"
      ]
     },
     "execution_count": 4,
     "metadata": {},
     "output_type": "execute_result"
    }
   ],
   "source": [
    "a"
   ]
  },
  {
   "cell_type": "code",
   "execution_count": 5,
   "id": "f1455d55-7158-47b3-a451-0312b64ef2a4",
   "metadata": {},
   "outputs": [
    {
     "data": {
      "text/plain": [
       "['ruhd', True, 'ruhd', True]"
      ]
     },
     "execution_count": 5,
     "metadata": {},
     "output_type": "execute_result"
    }
   ],
   "source": [
    "a*2"
   ]
  },
  {
   "cell_type": "code",
   "execution_count": 6,
   "id": "a3c2f720-02de-4a83-b3f0-b818239b3bba",
   "metadata": {},
   "outputs": [],
   "source": [
    "#append function this function are use add the element end of list.\n",
    "a.append(50)"
   ]
  },
  {
   "cell_type": "code",
   "execution_count": 7,
   "id": "d3584720-2564-455f-b064-7288167635a1",
   "metadata": {},
   "outputs": [
    {
     "data": {
      "text/plain": [
       "['ruhd', True, 50]"
      ]
     },
     "execution_count": 7,
     "metadata": {},
     "output_type": "execute_result"
    }
   ],
   "source": [
    "a"
   ]
  },
  {
   "cell_type": "code",
   "execution_count": 8,
   "id": "2863eff2-3b38-4cbc-80d7-a2dfc81cf0ed",
   "metadata": {},
   "outputs": [],
   "source": [
    "s=\"rusio\""
   ]
  },
  {
   "cell_type": "code",
   "execution_count": 9,
   "id": "efe98387-1205-409c-98b1-477a5ffa9bbe",
   "metadata": {},
   "outputs": [],
   "source": [
    "a.append(s)"
   ]
  },
  {
   "cell_type": "code",
   "execution_count": 10,
   "id": "215cfbc0-4c0b-4776-bd16-a0382eb10d4b",
   "metadata": {},
   "outputs": [
    {
     "data": {
      "text/plain": [
       "['ruhd', True, 50, 'rusio']"
      ]
     },
     "execution_count": 10,
     "metadata": {},
     "output_type": "execute_result"
    }
   ],
   "source": [
    "a"
   ]
  },
  {
   "cell_type": "code",
   "execution_count": 18,
   "id": "cbbf51c7-df17-4c99-a287-3d4b965640c5",
   "metadata": {},
   "outputs": [],
   "source": [
    "a.append(l)"
   ]
  },
  {
   "cell_type": "code",
   "execution_count": 19,
   "id": "15fa9edd-bc73-4fbf-ba29-e970c26492fa",
   "metadata": {},
   "outputs": [
    {
     "data": {
      "text/plain": [
       "['ruhd', True, 50, 'rusio', [19, 209, 309.2, (3+8j), 'rushi']]"
      ]
     },
     "execution_count": 19,
     "metadata": {},
     "output_type": "execute_result"
    }
   ],
   "source": [
    "a"
   ]
  },
  {
   "cell_type": "code",
   "execution_count": 24,
   "id": "a32cf030-0966-48f3-a3c1-59e987c4658a",
   "metadata": {},
   "outputs": [
    {
     "data": {
      "text/plain": [
       "[19, 209, 309.2, (3+8j), 'rushi', '2', '2', '2']"
      ]
     },
     "execution_count": 24,
     "metadata": {},
     "output_type": "execute_result"
    }
   ],
   "source": [
    "l\n"
   ]
  },
  {
   "cell_type": "code",
   "execution_count": 22,
   "id": "cce0335a-c6cb-428b-bc4d-6f9e1c1e322d",
   "metadata": {},
   "outputs": [],
   "source": [
    "l.extend(str(222))\n",
    "#extend function this function are same as append but store saperated position like this "
   ]
  },
  {
   "cell_type": "code",
   "execution_count": 23,
   "id": "49bba77f-185c-40d0-b5ff-eba10411d3f2",
   "metadata": {},
   "outputs": [
    {
     "data": {
      "text/plain": [
       "[19, 209, 309.2, (3+8j), 'rushi', '2', '2', '2']"
      ]
     },
     "execution_count": 23,
     "metadata": {},
     "output_type": "execute_result"
    }
   ],
   "source": [
    "l"
   ]
  },
  {
   "cell_type": "code",
   "execution_count": 29,
   "id": "0be0df71-e259-4f9b-be3e-843baacc0a1c",
   "metadata": {},
   "outputs": [],
   "source": [
    "l.insert(2,4)\n",
    "# insert function are use insert the the element user define position"
   ]
  },
  {
   "cell_type": "code",
   "execution_count": 30,
   "id": "5e9cb62d-3393-4b0b-9ea9-574653e468ff",
   "metadata": {},
   "outputs": [
    {
     "data": {
      "text/plain": [
       "[19, 209, 4, 309.2, (3+8j), 'rushi', '2', '2', '2']"
      ]
     },
     "execution_count": 30,
     "metadata": {},
     "output_type": "execute_result"
    }
   ],
   "source": [
    "l"
   ]
  },
  {
   "cell_type": "code",
   "execution_count": 31,
   "id": "bbb44051-0d56-4b8d-8314-e4ca3d41fd46",
   "metadata": {},
   "outputs": [],
   "source": [
    "l.insert(0,\"rushi\")"
   ]
  },
  {
   "cell_type": "code",
   "execution_count": 32,
   "id": "7be13eb2-4441-40ae-8d66-ce50aefe5af3",
   "metadata": {},
   "outputs": [
    {
     "data": {
      "text/plain": [
       "['rushi', 19, 209, 4, 309.2, (3+8j), 'rushi', '2', '2', '2']"
      ]
     },
     "execution_count": 32,
     "metadata": {},
     "output_type": "execute_result"
    }
   ],
   "source": [
    "l"
   ]
  },
  {
   "cell_type": "code",
   "execution_count": 33,
   "id": "ea7ecacd-3086-4ae2-b05c-d2ebe58d522e",
   "metadata": {},
   "outputs": [],
   "source": [
    "l.insert(-2,\"abc\")"
   ]
  },
  {
   "cell_type": "code",
   "execution_count": 34,
   "id": "9b6f66ac-eb69-49ad-92a8-f21e11facd84",
   "metadata": {},
   "outputs": [
    {
     "data": {
      "text/plain": [
       "['rushi', 19, 209, 4, 309.2, (3+8j), 'rushi', '2', 'abc', '2', '2']"
      ]
     },
     "execution_count": 34,
     "metadata": {},
     "output_type": "execute_result"
    }
   ],
   "source": [
    "l"
   ]
  },
  {
   "cell_type": "code",
   "execution_count": 35,
   "id": "fda7af7c-52c1-4986-8f30-682f76752b19",
   "metadata": {},
   "outputs": [
    {
     "data": {
      "text/plain": [
       "19"
      ]
     },
     "execution_count": 35,
     "metadata": {},
     "output_type": "execute_result"
    }
   ],
   "source": [
    "#pop remove the index data\n",
    "l.pop(1)"
   ]
  },
  {
   "cell_type": "code",
   "execution_count": 36,
   "id": "0bba74bc-dec1-456b-bfc4-6ceb648b15cd",
   "metadata": {},
   "outputs": [
    {
     "data": {
      "text/plain": [
       "['rushi', 209, 4, 309.2, (3+8j), 'rushi', '2', 'abc', '2', '2']"
      ]
     },
     "execution_count": 36,
     "metadata": {},
     "output_type": "execute_result"
    }
   ],
   "source": [
    "l"
   ]
  },
  {
   "cell_type": "code",
   "execution_count": 44,
   "id": "ca13ca81-d578-4b0d-ba95-0db338181c75",
   "metadata": {},
   "outputs": [
    {
     "data": {
      "text/plain": [
       "3"
      ]
     },
     "execution_count": 44,
     "metadata": {},
     "output_type": "execute_result"
    }
   ],
   "source": [
    "l.count('2')"
   ]
  },
  {
   "cell_type": "code",
   "execution_count": 45,
   "id": "5fcf4f22-f07c-45ae-996d-755e19e17970",
   "metadata": {},
   "outputs": [],
   "source": [
    "l.remove(209)"
   ]
  },
  {
   "cell_type": "code",
   "execution_count": 46,
   "id": "0e0a64c0-7c68-41d8-b52c-9bd95b25726e",
   "metadata": {},
   "outputs": [
    {
     "data": {
      "text/plain": [
       "['rushi', 4, 309.2, (3+8j), 'rushi', '2', 'abc', '2', '2']"
      ]
     },
     "execution_count": 46,
     "metadata": {},
     "output_type": "execute_result"
    }
   ],
   "source": [
    "l"
   ]
  },
  {
   "cell_type": "code",
   "execution_count": 51,
   "id": "a5700ed8-ee46-4c49-894e-d0ddc004c7b5",
   "metadata": {},
   "outputs": [
    {
     "data": {
      "text/plain": [
       "2"
      ]
     },
     "execution_count": 51,
     "metadata": {},
     "output_type": "execute_result"
    }
   ],
   "source": [
    "l.index(309.2) #show the index"
   ]
  },
  {
   "cell_type": "code",
   "execution_count": 52,
   "id": "1421fc53-a801-43f0-a80c-da778a08b822",
   "metadata": {},
   "outputs": [],
   "source": [
    "l.reverse()"
   ]
  },
  {
   "cell_type": "code",
   "execution_count": 53,
   "id": "27f72bd5-042e-44fb-b96d-7cc4ed5ebe90",
   "metadata": {},
   "outputs": [
    {
     "data": {
      "text/plain": [
       "['2', '2', 'abc', '2', 'rushi', (3+8j), 309.2, 4, 'rushi']"
      ]
     },
     "execution_count": 53,
     "metadata": {},
     "output_type": "execute_result"
    }
   ],
   "source": [
    "l"
   ]
  },
  {
   "cell_type": "code",
   "execution_count": 70,
   "id": "e5d8296f-ed4d-4453-b105-b20ba1c27b59",
   "metadata": {},
   "outputs": [],
   "source": [
    "b=[12,4,5,56,1,44]"
   ]
  },
  {
   "cell_type": "code",
   "execution_count": 56,
   "id": "2d08a753-89da-41d1-b1d4-693ddd8dd366",
   "metadata": {},
   "outputs": [
    {
     "data": {
      "text/plain": [
       "[12, 4, 5, 56, 1, 44]"
      ]
     },
     "execution_count": 56,
     "metadata": {},
     "output_type": "execute_result"
    }
   ],
   "source": [
    "b"
   ]
  },
  {
   "cell_type": "code",
   "execution_count": 62,
   "id": "9d85b706-f33e-41f3-a366-47f81049bb9f",
   "metadata": {},
   "outputs": [],
   "source": [
    "b.sort()"
   ]
  },
  {
   "cell_type": "code",
   "execution_count": 59,
   "id": "79b46a39-b7dc-458e-916b-71918eedb9df",
   "metadata": {},
   "outputs": [
    {
     "data": {
      "text/plain": [
       "['2', '2', '2', 'abc', 'rushi', (3+8j), 309.2, 4, 'rushi']"
      ]
     },
     "execution_count": 59,
     "metadata": {},
     "output_type": "execute_result"
    }
   ],
   "source": [
    "l"
   ]
  },
  {
   "cell_type": "code",
   "execution_count": 63,
   "id": "0335528c-46a1-449f-a493-18d805c14f83",
   "metadata": {},
   "outputs": [
    {
     "data": {
      "text/plain": [
       "[1, 4, 5, 12, 44, 56]"
      ]
     },
     "execution_count": 63,
     "metadata": {},
     "output_type": "execute_result"
    }
   ],
   "source": [
    "b"
   ]
  },
  {
   "cell_type": "code",
   "execution_count": 74,
   "id": "b0831975-583b-4800-9b5d-3dafc9eaf0ee",
   "metadata": {},
   "outputs": [],
   "source": [
    "b.sort(reverse=True)"
   ]
  },
  {
   "cell_type": "code",
   "execution_count": 71,
   "id": "9f33b420-07da-46e2-8ccc-4546a759ea1c",
   "metadata": {},
   "outputs": [],
   "source": [
    "b.remove(4)"
   ]
  },
  {
   "cell_type": "code",
   "execution_count": 75,
   "id": "f5d27f14-85f9-4318-ba0f-01ad1819e3e9",
   "metadata": {},
   "outputs": [
    {
     "data": {
      "text/plain": [
       "[56, 44, 12, 5, 1]"
      ]
     },
     "execution_count": 75,
     "metadata": {},
     "output_type": "execute_result"
    }
   ],
   "source": [
    "b"
   ]
  },
  {
   "cell_type": "code",
   "execution_count": 76,
   "id": "b8877024-b8bb-4b78-a2e8-e49e708f71a1",
   "metadata": {},
   "outputs": [],
   "source": [
    "b={1,2,3,4,5,6}"
   ]
  },
  {
   "cell_type": "code",
   "execution_count": 77,
   "id": "b3bacb66-7085-4b53-9bf0-7cb4c8934d6c",
   "metadata": {},
   "outputs": [
    {
     "data": {
      "text/plain": [
       "set"
      ]
     },
     "execution_count": 77,
     "metadata": {},
     "output_type": "execute_result"
    }
   ],
   "source": [
    "type(b)"
   ]
  },
  {
   "cell_type": "code",
   "execution_count": 85,
   "id": "2859fcb3-e38f-4be8-a3c9-f9b9f4f254c1",
   "metadata": {},
   "outputs": [],
   "source": [
    "#tuple is imutable\n",
    "b=(1,2,3,4,5,6)"
   ]
  },
  {
   "cell_type": "code",
   "execution_count": 79,
   "id": "2312a2e9-60e0-4be4-ba3d-6c44fb485699",
   "metadata": {},
   "outputs": [
    {
     "data": {
      "text/plain": [
       "tuple"
      ]
     },
     "execution_count": 79,
     "metadata": {},
     "output_type": "execute_result"
    }
   ],
   "source": [
    "type(b)"
   ]
  },
  {
   "cell_type": "code",
   "execution_count": 80,
   "id": "6a9c518b-3f7b-4888-9da3-73a46db9f3be",
   "metadata": {},
   "outputs": [
    {
     "data": {
      "text/plain": [
       "1"
      ]
     },
     "execution_count": 80,
     "metadata": {},
     "output_type": "execute_result"
    }
   ],
   "source": [
    "b.count(1)"
   ]
  },
  {
   "cell_type": "code",
   "execution_count": 83,
   "id": "5d1869d6-28f8-4799-b6b2-7b645d6426c7",
   "metadata": {},
   "outputs": [],
   "source": [
    "l3=[1,2,3,4,\"rushi\",{1,1,2,\"ruh\"},[6,5,6,]]"
   ]
  },
  {
   "cell_type": "code",
   "execution_count": 84,
   "id": "63598d7f-71a9-4962-80be-9cca4684e3e5",
   "metadata": {},
   "outputs": [
    {
     "data": {
      "text/plain": [
       "[1, 2, 3, 4, 'rushi', {1, 2, 'ruh'}, [6, 5, 6]]"
      ]
     },
     "execution_count": 84,
     "metadata": {},
     "output_type": "execute_result"
    }
   ],
   "source": [
    "l3"
   ]
  },
  {
   "cell_type": "code",
   "execution_count": 86,
   "id": "9a4a6302-b106-4eb9-9789-8f27cf25da57",
   "metadata": {},
   "outputs": [
    {
     "data": {
      "text/plain": [
       "(1, 2, 3, 4, 5, 6)"
      ]
     },
     "execution_count": 86,
     "metadata": {},
     "output_type": "execute_result"
    }
   ],
   "source": [
    "#operation\n",
    "b"
   ]
  },
  {
   "cell_type": "code",
   "execution_count": 87,
   "id": "39597b38-334f-4e7d-b56c-864c4986bdb2",
   "metadata": {},
   "outputs": [
    {
     "data": {
      "text/plain": [
       "1"
      ]
     },
     "execution_count": 87,
     "metadata": {},
     "output_type": "execute_result"
    }
   ],
   "source": [
    "b.count(1)"
   ]
  },
  {
   "cell_type": "code",
   "execution_count": 88,
   "id": "844e3eb1-bcf5-4d4a-8738-073c290c24b6",
   "metadata": {},
   "outputs": [
    {
     "data": {
      "text/plain": [
       "1"
      ]
     },
     "execution_count": 88,
     "metadata": {},
     "output_type": "execute_result"
    }
   ],
   "source": [
    "b.index(2)"
   ]
  },
  {
   "cell_type": "code",
   "execution_count": 89,
   "id": "e3e1335f-79f2-47ca-8894-1e88e51161aa",
   "metadata": {},
   "outputs": [
    {
     "data": {
      "text/plain": [
       "1"
      ]
     },
     "execution_count": 89,
     "metadata": {},
     "output_type": "execute_result"
    }
   ],
   "source": [
    "b[0]"
   ]
  },
  {
   "cell_type": "code",
   "execution_count": 91,
   "id": "2c32c241-a6dc-45c7-94f3-9e558fc70013",
   "metadata": {},
   "outputs": [
    {
     "data": {
      "text/plain": [
       "(6, 5, 4, 3, 2, 1)"
      ]
     },
     "execution_count": 91,
     "metadata": {},
     "output_type": "execute_result"
    }
   ],
   "source": [
    "b[::-1]"
   ]
  },
  {
   "cell_type": "code",
   "execution_count": 92,
   "id": "8410ea53-d03c-4936-aa47-e94257d6b77c",
   "metadata": {},
   "outputs": [
    {
     "data": {
      "text/plain": [
       "3"
      ]
     },
     "execution_count": 92,
     "metadata": {},
     "output_type": "execute_result"
    }
   ],
   "source": [
    "b[0]+b[1]"
   ]
  },
  {
   "cell_type": "code",
   "execution_count": 93,
   "id": "f1242710-4e69-47ff-8040-77d8603d48a3",
   "metadata": {},
   "outputs": [
    {
     "data": {
      "text/plain": [
       "(1, 2, 3, 4, 5, 6)"
      ]
     },
     "execution_count": 93,
     "metadata": {},
     "output_type": "execute_result"
    }
   ],
   "source": [
    "b\n"
   ]
  },
  {
   "cell_type": "code",
   "execution_count": 94,
   "id": "0a7c0879-8f0d-4b12-952c-ab48d9e69f22",
   "metadata": {},
   "outputs": [],
   "source": [
    "#set\n",
    "#inorder collection \n",
    "#store the unique element not dulplicated\n",
    "#in the set we not store the list\n",
    "\n",
    "s={}"
   ]
  },
  {
   "cell_type": "code",
   "execution_count": 95,
   "id": "854beef8-ec69-48c0-8488-4a4938c1c70b",
   "metadata": {},
   "outputs": [
    {
     "data": {
      "text/plain": [
       "dict"
      ]
     },
     "execution_count": 95,
     "metadata": {},
     "output_type": "execute_result"
    }
   ],
   "source": [
    "type(s)"
   ]
  },
  {
   "cell_type": "code",
   "execution_count": 2,
   "id": "3f6efaf5-2cdf-4723-b5cd-55b20e562475",
   "metadata": {},
   "outputs": [],
   "source": [
    "s={1,2,\"ruh\",4+1j}"
   ]
  },
  {
   "cell_type": "code",
   "execution_count": 98,
   "id": "64843e16-396d-4dd0-9191-0a58fbdbfdf1",
   "metadata": {},
   "outputs": [
    {
     "data": {
      "text/plain": [
       "{(4+1j), 1, 2, 'ruh'}"
      ]
     },
     "execution_count": 98,
     "metadata": {},
     "output_type": "execute_result"
    }
   ],
   "source": [
    "s"
   ]
  },
  {
   "cell_type": "code",
   "execution_count": 99,
   "id": "23329943-ccad-4f6d-835e-55196fbd7866",
   "metadata": {},
   "outputs": [],
   "source": [
    "s2=list(set(s))"
   ]
  },
  {
   "cell_type": "code",
   "execution_count": 100,
   "id": "350bb337-8501-4e56-b48b-5710dcc08c02",
   "metadata": {},
   "outputs": [
    {
     "data": {
      "text/plain": [
       "[1, 2, 'ruh', (4+1j)]"
      ]
     },
     "execution_count": 100,
     "metadata": {},
     "output_type": "execute_result"
    }
   ],
   "source": [
    "s2"
   ]
  },
  {
   "cell_type": "code",
   "execution_count": 101,
   "id": "f02bb01e-f55b-436f-a20f-af2f8632a9fc",
   "metadata": {},
   "outputs": [
    {
     "data": {
      "text/plain": [
       "[1, 2, 'ruh', (4+1j)]"
      ]
     },
     "execution_count": 101,
     "metadata": {},
     "output_type": "execute_result"
    }
   ],
   "source": [
    "s2"
   ]
  },
  {
   "cell_type": "code",
   "execution_count": 102,
   "id": "bd5b7ce1-edde-47f4-ae44-bb2e457eaa48",
   "metadata": {},
   "outputs": [
    {
     "data": {
      "text/plain": [
       "2"
      ]
     },
     "execution_count": 102,
     "metadata": {},
     "output_type": "execute_result"
    }
   ],
   "source": [
    "s2[1]"
   ]
  },
  {
   "cell_type": "code",
   "execution_count": 103,
   "id": "3e80fee7-4752-4f09-b6cf-91400dd9db77",
   "metadata": {},
   "outputs": [],
   "source": [
    "s2[1]=11"
   ]
  },
  {
   "cell_type": "code",
   "execution_count": 104,
   "id": "db553689-b80f-4ee2-b21f-5a72a86210b5",
   "metadata": {},
   "outputs": [
    {
     "data": {
      "text/plain": [
       "[1, 11, 'ruh', (4+1j)]"
      ]
     },
     "execution_count": 104,
     "metadata": {},
     "output_type": "execute_result"
    }
   ],
   "source": [
    "s2"
   ]
  },
  {
   "cell_type": "code",
   "execution_count": 105,
   "id": "78a8afbb-e601-46b0-a3a6-a636744940e3",
   "metadata": {},
   "outputs": [
    {
     "data": {
      "text/plain": [
       "{(4+1j), 1, 2, 'ruh'}"
      ]
     },
     "execution_count": 105,
     "metadata": {},
     "output_type": "execute_result"
    }
   ],
   "source": [
    "s "
   ]
  },
  {
   "cell_type": "code",
   "execution_count": 106,
   "id": "3428905c-46f6-46b3-a383-51c34bbf7103",
   "metadata": {},
   "outputs": [],
   "source": [
    "s.update()"
   ]
  },
  {
   "cell_type": "code",
   "execution_count": 107,
   "id": "4f159f50-748b-4183-a25f-89081e29ed8a",
   "metadata": {},
   "outputs": [
    {
     "data": {
      "text/plain": [
       "{(4+1j), 1, 2, 'ruh'}"
      ]
     },
     "execution_count": 107,
     "metadata": {},
     "output_type": "execute_result"
    }
   ],
   "source": [
    "s"
   ]
  },
  {
   "cell_type": "code",
   "execution_count": 4,
   "id": "73d75bf7-cb48-41cc-bf6a-1eeb8f127cc1",
   "metadata": {},
   "outputs": [
    {
     "data": {
      "text/plain": [
       "{(4+1j), 1, 2, 'ruh'}"
      ]
     },
     "execution_count": 4,
     "metadata": {},
     "output_type": "execute_result"
    }
   ],
   "source": [
    "s"
   ]
  },
  {
   "cell_type": "code",
   "execution_count": 5,
   "id": "306d5816-de5b-4cbd-a22e-49ddddc90095",
   "metadata": {},
   "outputs": [
    {
     "ename": "TypeError",
     "evalue": "'set' object is not subscriptable",
     "output_type": "error",
     "traceback": [
      "\u001b[0;31m---------------------------------------------------------------------------\u001b[0m",
      "\u001b[0;31mTypeError\u001b[0m                                 Traceback (most recent call last)",
      "Cell \u001b[0;32mIn[5], line 1\u001b[0m\n\u001b[0;32m----> 1\u001b[0m \u001b[43ms\u001b[49m\u001b[43m[\u001b[49m\u001b[38;5;241;43m1\u001b[39;49m\u001b[43m]\u001b[49m\n",
      "\u001b[0;31mTypeError\u001b[0m: 'set' object is not subscriptable"
     ]
    }
   ],
   "source": [
    "s[1]"
   ]
  },
  {
   "cell_type": "code",
   "execution_count": 6,
   "id": "7e1a1a5b-3efd-4039-801e-65b8e863e77e",
   "metadata": {},
   "outputs": [],
   "source": [
    "e={7,4,3,6,1}"
   ]
  },
  {
   "cell_type": "code",
   "execution_count": 7,
   "id": "37bad3d3-06bc-449d-a818-bd54e14530f3",
   "metadata": {},
   "outputs": [
    {
     "data": {
      "text/plain": [
       "set"
      ]
     },
     "execution_count": 7,
     "metadata": {},
     "output_type": "execute_result"
    }
   ],
   "source": [
    "type(s)"
   ]
  },
  {
   "cell_type": "code",
   "execution_count": 8,
   "id": "a5092dc2-756b-4710-b9fa-939bb45ddeff",
   "metadata": {},
   "outputs": [
    {
     "data": {
      "text/plain": [
       "{1, 3, 4, 6, 7}"
      ]
     },
     "execution_count": 8,
     "metadata": {},
     "output_type": "execute_result"
    }
   ],
   "source": [
    "e"
   ]
  },
  {
   "cell_type": "code",
   "execution_count": 11,
   "id": "5a805f19-4eed-46c3-af49-103b4957a3d1",
   "metadata": {},
   "outputs": [],
   "source": [
    "e.update(\"8\")"
   ]
  },
  {
   "cell_type": "code",
   "execution_count": 12,
   "id": "f70756a6-5a6f-48e8-aa5f-cfc389e9c116",
   "metadata": {},
   "outputs": [
    {
     "data": {
      "text/plain": [
       "{1, 3, 4, 6, 7, '8'}"
      ]
     },
     "execution_count": 12,
     "metadata": {},
     "output_type": "execute_result"
    }
   ],
   "source": [
    "e"
   ]
  },
  {
   "cell_type": "code",
   "execution_count": 13,
   "id": "e5a7a148-bf32-43cd-8b84-0fcb87704008",
   "metadata": {},
   "outputs": [],
   "source": [
    "e.remove(1)"
   ]
  },
  {
   "cell_type": "code",
   "execution_count": 14,
   "id": "c013067b-8ed6-44bf-bf25-1714524bc5c5",
   "metadata": {},
   "outputs": [
    {
     "data": {
      "text/plain": [
       "{3, 4, 6, 7, '8'}"
      ]
     },
     "execution_count": 14,
     "metadata": {},
     "output_type": "execute_result"
    }
   ],
   "source": [
    "e"
   ]
  },
  {
   "cell_type": "code",
   "execution_count": 9,
   "id": "9e973722-12c7-4a24-ba2e-44b9430f6802",
   "metadata": {},
   "outputs": [],
   "source": [
    "w={1,2,4,2,3,(8,9,7,1)}"
   ]
  },
  {
   "cell_type": "code",
   "execution_count": 10,
   "id": "9c38465e-c110-4313-9acf-44b3627a73a0",
   "metadata": {},
   "outputs": [
    {
     "data": {
      "text/plain": [
       "{(8, 9, 7, 1), 1, 2, 3, 4}"
      ]
     },
     "execution_count": 10,
     "metadata": {},
     "output_type": "execute_result"
    }
   ],
   "source": [
    "w"
   ]
  },
  {
   "cell_type": "code",
   "execution_count": 12,
   "id": "99e9b708-0dc3-4ad7-b1af-089c4ab79996",
   "metadata": {},
   "outputs": [
    {
     "data": {
      "text/plain": [
       "{(8, 9, 7, 1), 1, 2, 3, 4}"
      ]
     },
     "execution_count": 12,
     "metadata": {},
     "output_type": "execute_result"
    }
   ],
   "source": [
    "w"
   ]
  },
  {
   "cell_type": "code",
   "execution_count": 21,
   "id": "fc2b8513-1051-48c6-af05-b7273c302143",
   "metadata": {},
   "outputs": [],
   "source": [
    "w.clear()"
   ]
  },
  {
   "cell_type": "code",
   "execution_count": 23,
   "id": "7b604993-e1b7-4715-8be7-c4cdd6484796",
   "metadata": {},
   "outputs": [],
   "source": [
    "w={1,2}"
   ]
  },
  {
   "cell_type": "code",
   "execution_count": 24,
   "id": "691acd0f-7e1e-4318-a8b8-0285a524efb9",
   "metadata": {},
   "outputs": [
    {
     "data": {
      "text/plain": [
       "{1, 2}"
      ]
     },
     "execution_count": 24,
     "metadata": {},
     "output_type": "execute_result"
    }
   ],
   "source": [
    "w"
   ]
  },
  {
   "cell_type": "code",
   "execution_count": 2,
   "id": "a8d493fa-bc7d-42b3-b82d-e3090e97b003",
   "metadata": {},
   "outputs": [],
   "source": [
    "f=()"
   ]
  },
  {
   "cell_type": "code",
   "execution_count": 3,
   "id": "c9db3ce4-bb69-4271-9c42-65f431d5ef51",
   "metadata": {},
   "outputs": [
    {
     "data": {
      "text/plain": [
       "tuple"
      ]
     },
     "execution_count": 3,
     "metadata": {},
     "output_type": "execute_result"
    }
   ],
   "source": [
    "type(f)"
   ]
  },
  {
   "cell_type": "code",
   "execution_count": 4,
   "id": "9580fa95-881d-4ab2-843c-dd4e932af31d",
   "metadata": {},
   "outputs": [],
   "source": [
    "#dictionary"
   ]
  },
  {
   "cell_type": "code",
   "execution_count": 6,
   "id": "41eb3656-de2f-434a-8a98-a813aaaf3f32",
   "metadata": {},
   "outputs": [],
   "source": [
    "d={1:\"one\",2:\"two\"}"
   ]
  },
  {
   "cell_type": "code",
   "execution_count": 7,
   "id": "2ad306ed-30d9-4b26-a991-a2469429f27b",
   "metadata": {},
   "outputs": [
    {
     "data": {
      "text/plain": [
       "{1: 'one', 2: 'two'}"
      ]
     },
     "execution_count": 7,
     "metadata": {},
     "output_type": "execute_result"
    }
   ],
   "source": [
    "d"
   ]
  },
  {
   "cell_type": "code",
   "execution_count": 3,
   "id": "fce4075a-a0cb-4cd7-96a5-0425dfcef2c2",
   "metadata": {},
   "outputs": [],
   "source": [
    "q={\"name\":\"rushikesh\",\"add\":\"newasa\",\"f\":[1,2,3,4,5],\"r\":('rushi'),'e':{1,2,1,3,1}}"
   ]
  },
  {
   "cell_type": "code",
   "execution_count": 6,
   "id": "6ab1e738-033d-46ef-a5bf-1b6e660cff4f",
   "metadata": {},
   "outputs": [
    {
     "data": {
      "text/plain": [
       "'rushikesh'"
      ]
     },
     "execution_count": 6,
     "metadata": {},
     "output_type": "execute_result"
    }
   ],
   "source": [
    "q.pop('name')"
   ]
  },
  {
   "cell_type": "code",
   "execution_count": null,
   "id": "f2cdd0b0-c42d-4ae0-9aa9-2500f4fce8da",
   "metadata": {},
   "outputs": [],
   "source": []
  }
 ],
 "metadata": {
  "kernelspec": {
   "display_name": "Python 3 (ipykernel)",
   "language": "python",
   "name": "python3"
  },
  "language_info": {
   "codemirror_mode": {
    "name": "ipython",
    "version": 3
   },
   "file_extension": ".py",
   "mimetype": "text/x-python",
   "name": "python",
   "nbconvert_exporter": "python",
   "pygments_lexer": "ipython3",
   "version": "3.10.8"
  }
 },
 "nbformat": 4,
 "nbformat_minor": 5
}
