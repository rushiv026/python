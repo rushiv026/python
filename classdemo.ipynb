{
 "cells": [
  {
   "cell_type": "code",
   "execution_count": 1,
   "id": "3741f4a1-3f55-476a-a411-ea10dd84abc7",
   "metadata": {},
   "outputs": [],
   "source": [
    "#simple class\n",
    "class first:\n",
    "    pass"
   ]
  },
  {
   "cell_type": "code",
   "execution_count": 2,
   "id": "ddcfe9da-c07b-4dc7-b1e4-1f079cca7a02",
   "metadata": {},
   "outputs": [],
   "source": [
    "class test1:\n",
    "    def __init__(self,rollno,name,percentage,year):\n",
    "        self.rollno1=rollno\n",
    "        self.name1=name\n",
    "        self.percentage1=percentage\n",
    "        self.year=year\n",
    "    def return_student_details(self):\n",
    "        return self.rollno1,self.name1,self.percentage1,self.year"
   ]
  },
  {
   "cell_type": "code",
   "execution_count": 3,
   "id": "268dd3ff-fb86-4fbb-91d9-c5b8952c8157",
   "metadata": {},
   "outputs": [
    {
     "ename": "TypeError",
     "evalue": "test1.__init__() missing 4 required positional arguments: 'rollno', 'name', 'percentage', and 'year'",
     "output_type": "error",
     "traceback": [
      "\u001b[0;31m---------------------------------------------------------------------------\u001b[0m",
      "\u001b[0;31mTypeError\u001b[0m                                 Traceback (most recent call last)",
      "Cell \u001b[0;32mIn[3], line 1\u001b[0m\n\u001b[0;32m----> 1\u001b[0m obj\u001b[38;5;241m=\u001b[39m\u001b[43mtest1\u001b[49m\u001b[43m(\u001b[49m\u001b[43m)\u001b[49m\n",
      "\u001b[0;31mTypeError\u001b[0m: test1.__init__() missing 4 required positional arguments: 'rollno', 'name', 'percentage', and 'year'"
     ]
    }
   ],
   "source": [
    "obj=test1()#required 4 argument"
   ]
  },
  {
   "cell_type": "code",
   "execution_count": 5,
   "id": "c39f4d3a-6125-402e-8c55-3b7131ef3ce1",
   "metadata": {},
   "outputs": [],
   "source": [
    "mangesh=test1(10,\"mangesh\",70,2023)"
   ]
  },
  {
   "cell_type": "code",
   "execution_count": 6,
   "id": "28381f42-ae32-4115-a526-73d1f73b31e9",
   "metadata": {},
   "outputs": [
    {
     "data": {
      "text/plain": [
       "(10, 'mangesh', 70, 2023)"
      ]
     },
     "execution_count": 6,
     "metadata": {},
     "output_type": "execute_result"
    }
   ],
   "source": [
    "mangesh.return_student_details()"
   ]
  },
  {
   "cell_type": "code",
   "execution_count": null,
   "id": "aaa4cb8e-3180-4c26-a656-efec5de0dcd7",
   "metadata": {},
   "outputs": [],
   "source": [
    "mangesh.rollno1"
   ]
  }
 ],
 "metadata": {
  "kernelspec": {
   "display_name": "Python 3 (ipykernel)",
   "language": "python",
   "name": "python3"
  },
  "language_info": {
   "codemirror_mode": {
    "name": "ipython",
    "version": 3
   },
   "file_extension": ".py",
   "mimetype": "text/x-python",
   "name": "python",
   "nbconvert_exporter": "python",
   "pygments_lexer": "ipython3",
   "version": "3.10.8"
  }
 },
 "nbformat": 4,
 "nbformat_minor": 5
}
