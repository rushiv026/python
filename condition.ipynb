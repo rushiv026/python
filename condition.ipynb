{
 "cells": [
  {
   "cell_type": "code",
   "execution_count": 15,
   "id": "91c97ef8-7bb2-4f19-8813-5e5a304fdeb0",
   "metadata": {},
   "outputs": [
    {
     "name": "stdin",
     "output_type": "stream",
     "text": [
      "enter marks 40\n"
     ]
    },
    {
     "name": "stdout",
     "output_type": "stream",
     "text": [
      "get c\n"
     ]
    }
   ],
   "source": [
    "#condition statement\n",
    "#marks=60\n",
    "marks=float(input(\"enter marks\"))\n",
    "if marks>=80:\n",
    "    print(\"get A\")\n",
    "elif marks>=60 and marks<80:\n",
    "    print(\"get B\")\n",
    "elif marks>=40 and marks<60:\n",
    "    print(\"get c\")\n",
    "else:\n",
    "    print(\"fail\")"
   ]
  },
  {
   "cell_type": "code",
   "execution_count": 16,
   "id": "dc2466aa-c080-4c97-ba04-307249b4cf07",
   "metadata": {},
   "outputs": [
    {
     "data": {
      "text/plain": [
       "float"
      ]
     },
     "execution_count": 16,
     "metadata": {},
     "output_type": "execute_result"
    }
   ],
   "source": [
    "type(marks)"
   ]
  },
  {
   "cell_type": "code",
   "execution_count": 23,
   "id": "ffd12f6a-2534-458e-9e05-86beff157dca",
   "metadata": {},
   "outputs": [
    {
     "name": "stdin",
     "output_type": "stream",
     "text": [
      "enter price 50000\n"
     ]
    },
    {
     "name": "stdout",
     "output_type": "stream",
     "text": [
      " not purches\n",
      "n\n"
     ]
    }
   ],
   "source": [
    "price=int(input(\"enter price\"))\n",
    "if price>1000:\n",
    "    print(\" not purches\")\n",
    "    if price>4000:\n",
    "        print('n')\n",
    "else:\n",
    "    print(\"purches\")"
   ]
  },
  {
   "cell_type": "code",
   "execution_count": 34,
   "id": "d931ed72-f74a-42b5-b3cb-7329edcdeda4",
   "metadata": {},
   "outputs": [],
   "source": [
    "l=[1,2,3,4,4]"
   ]
  },
  {
   "cell_type": "code",
   "execution_count": 49,
   "id": "f1ed98be-24ca-4c8f-95d8-b3ffdd011b3c",
   "metadata": {},
   "outputs": [],
   "source": [
    "l1=[]"
   ]
  },
  {
   "cell_type": "code",
   "execution_count": 50,
   "id": "0435fc59-9cff-4184-b842-f6e82bf7f453",
   "metadata": {},
   "outputs": [
    {
     "name": "stdout",
     "output_type": "stream",
     "text": [
      "2\n",
      "3\n",
      "4\n",
      "5\n",
      "5\n"
     ]
    },
    {
     "data": {
      "text/plain": [
       "[2, 3, 4, 5, 5]"
      ]
     },
     "execution_count": 50,
     "metadata": {},
     "output_type": "execute_result"
    }
   ],
   "source": [
    "for i in l:\n",
    "    print(i+1)\n",
    "    l1.append(i+1)\n",
    "l1"
   ]
  },
  {
   "cell_type": "code",
   "execution_count": null,
   "id": "30a65deb-2330-4a68-9f5f-e5159dd9a08f",
   "metadata": {},
   "outputs": [],
   "source": [
    "l1.remove(5)"
   ]
  },
  {
   "cell_type": "code",
   "execution_count": 47,
   "id": "f4f0762a-84de-4da4-b066-0e7f5544a9f1",
   "metadata": {},
   "outputs": [],
   "source": [
    " l1.clear()"
   ]
  },
  {
   "cell_type": "code",
   "execution_count": 51,
   "id": "878ae9dc-2eb7-4809-8ead-2cebbf12294c",
   "metadata": {},
   "outputs": [
    {
     "data": {
      "text/plain": [
       "[2, 3, 4, 5, 5]"
      ]
     },
     "execution_count": 51,
     "metadata": {},
     "output_type": "execute_result"
    }
   ],
   "source": [
    "l1"
   ]
  },
  {
   "cell_type": "code",
   "execution_count": 1,
   "id": "851183cc-de11-4fed-833a-bffe2d292c0e",
   "metadata": {},
   "outputs": [],
   "source": [
    "l2=['rushi','ganesh','sumit']"
   ]
  },
  {
   "cell_type": "code",
   "execution_count": 2,
   "id": "045a5bfa-a195-40ad-9823-8ce9aecd02d5",
   "metadata": {},
   "outputs": [
    {
     "data": {
      "text/plain": [
       "['rushi', 'ganesh', 'sumit']"
      ]
     },
     "execution_count": 2,
     "metadata": {},
     "output_type": "execute_result"
    }
   ],
   "source": [
    "l2"
   ]
  },
  {
   "cell_type": "code",
   "execution_count": 22,
   "id": "aa88f596-d144-489a-8d61-0fe0e682abce",
   "metadata": {},
   "outputs": [
    {
     "data": {
      "text/plain": [
       "['RUSHI', 'GANESH', 'SUMIT']"
      ]
     },
     "execution_count": 22,
     "metadata": {},
     "output_type": "execute_result"
    }
   ],
   "source": [
    "l3=[]\n",
    "for i in l2:\n",
    "    l3.append(i.upper())\n",
    "l3"
   ]
  },
  {
   "cell_type": "code",
   "execution_count": 4,
   "id": "82eb8cf0-4139-4176-ad57-371a4e6ec96e",
   "metadata": {},
   "outputs": [
    {
     "data": {
      "text/plain": [
       "['RUSHI', 'GANESH', 'SUMIT']"
      ]
     },
     "execution_count": 4,
     "metadata": {},
     "output_type": "execute_result"
    }
   ],
   "source": [
    "l3"
   ]
  },
  {
   "cell_type": "code",
   "execution_count": 6,
   "id": "dac93572-2493-4532-9a0d-098055b2f067",
   "metadata": {},
   "outputs": [],
   "source": [
    "r=[1,2,3,4,'rushi','ganesh']\n"
   ]
  },
  {
   "cell_type": "code",
   "execution_count": 7,
   "id": "d8562988-350a-4b62-b985-236715b71df4",
   "metadata": {},
   "outputs": [
    {
     "data": {
      "text/plain": [
       "[1, 2, 3, 4, 'rushi', 'ganesh']"
      ]
     },
     "execution_count": 7,
     "metadata": {},
     "output_type": "execute_result"
    }
   ],
   "source": [
    "r"
   ]
  },
  {
   "cell_type": "code",
   "execution_count": 11,
   "id": "6ef41458-0a96-4151-b134-0f2ff1decaa2",
   "metadata": {},
   "outputs": [
    {
     "name": "stdout",
     "output_type": "stream",
     "text": [
      "1\n"
     ]
    },
    {
     "ename": "AttributeError",
     "evalue": "'int' object has no attribute 'upper'",
     "output_type": "error",
     "traceback": [
      "\u001b[0;31m---------------------------------------------------------------------------\u001b[0m",
      "\u001b[0;31mAttributeError\u001b[0m                            Traceback (most recent call last)",
      "Cell \u001b[0;32mIn[11], line 4\u001b[0m\n\u001b[1;32m      2\u001b[0m \u001b[38;5;28;01mfor\u001b[39;00m i \u001b[38;5;129;01min\u001b[39;00m r:\n\u001b[1;32m      3\u001b[0m     \u001b[38;5;28mprint\u001b[39m(i)\n\u001b[0;32m----> 4\u001b[0m     r1\u001b[38;5;241m.\u001b[39mappend(\u001b[43mi\u001b[49m\u001b[38;5;241;43m.\u001b[39;49m\u001b[43mupper\u001b[49m())\n",
      "\u001b[0;31mAttributeError\u001b[0m: 'int' object has no attribute 'upper'"
     ]
    }
   ],
   "source": [
    "r1=[]\n",
    "for i in r:\n",
    "    print(i)\n",
    "    r1.append(i.upper())"
   ]
  },
  {
   "cell_type": "code",
   "execution_count": 30,
   "id": "d5fb323f-e0e0-4aa5-9265-e277b949519f",
   "metadata": {},
   "outputs": [
    {
     "name": "stdout",
     "output_type": "stream",
     "text": [
      "1\n",
      "2\n",
      "3\n",
      "4\n",
      "rushi\n",
      "ganesh\n"
     ]
    },
    {
     "data": {
      "text/plain": [
       "['RUSHI', 'GANESH']"
      ]
     },
     "execution_count": 30,
     "metadata": {},
     "output_type": "execute_result"
    }
   ],
   "source": [
    "r1=[]\n",
    "for i in r:\n",
    "    print(i)\n",
    "    if type(i) == str:\n",
    "        r1.append(i.upper())\n",
    "r1\n",
    "        "
   ]
  },
  {
   "cell_type": "code",
   "execution_count": 17,
   "id": "ab0540bc-0d79-482b-a946-91dfbb377566",
   "metadata": {},
   "outputs": [],
   "source": [
    "r3=['rushi','ganesh','you','are']"
   ]
  },
  {
   "cell_type": "code",
   "execution_count": 18,
   "id": "ac7808c1-3813-47c2-8acb-2d4a5e045e6c",
   "metadata": {},
   "outputs": [
    {
     "data": {
      "text/plain": [
       "['rushi', 'ganesh', 'you', 'are']"
      ]
     },
     "execution_count": 18,
     "metadata": {},
     "output_type": "execute_result"
    }
   ],
   "source": [
    "r3"
   ]
  },
  {
   "cell_type": "code",
   "execution_count": 23,
   "id": "9df96ac5-f2dd-42a3-aafe-8bb002eb79f9",
   "metadata": {},
   "outputs": [
    {
     "name": "stdout",
     "output_type": "stream",
     "text": [
      "rushi\n",
      "ganesh\n",
      "you\n",
      "are\n"
     ]
    }
   ],
   "source": [
    "r4=[]\n",
    "for i in r3:\n",
    "    print(i)\n",
    "    r4.append(i.upper())"
   ]
  },
  {
   "cell_type": "code",
   "execution_count": 24,
   "id": "357baca5-cd9c-4ff8-92b0-90b3b763d84f",
   "metadata": {},
   "outputs": [
    {
     "data": {
      "text/plain": [
       "['RUSHI', 'GANESH', 'YOU', 'ARE']"
      ]
     },
     "execution_count": 24,
     "metadata": {},
     "output_type": "execute_result"
    }
   ],
   "source": [
    "r4"
   ]
  },
  {
   "cell_type": "code",
   "execution_count": 31,
   "id": "05946944-af97-43b0-a55f-bdf5d184b2ba",
   "metadata": {},
   "outputs": [
    {
     "data": {
      "text/plain": [
       "[1, 2, 3, 4, 'rushi', 'ganesh']"
      ]
     },
     "execution_count": 31,
     "metadata": {},
     "output_type": "execute_result"
    }
   ],
   "source": [
    "r"
   ]
  },
  {
   "cell_type": "code",
   "execution_count": 35,
   "id": "39a17e76-93d4-4540-8f32-fa38105940a3",
   "metadata": {},
   "outputs": [
    {
     "name": "stdout",
     "output_type": "stream",
     "text": [
      "[1, 2, 3, 4, 'rushi', 'ganesh']\n",
      "[1, 2, 3, 4]\n"
     ]
    },
    {
     "data": {
      "text/plain": [
       "['rushi', 'ganesh']"
      ]
     },
     "execution_count": 35,
     "metadata": {},
     "output_type": "execute_result"
    }
   ],
   "source": [
    "l1_num=[]\n",
    "l1_str=[]\n",
    "print(r)\n",
    "for i in r:\n",
    "    if type(i)==int or type(i)==float:\n",
    "        l1_num.append(i)\n",
    "    else:\n",
    "        l1_str.append(i)\n",
    "print(l1_num)\n",
    "l1_str"
   ]
  },
  {
   "cell_type": "code",
   "execution_count": null,
   "id": "da4e45da-b50e-4ca2-bd03-059a23a86b98",
   "metadata": {},
   "outputs": [],
   "source": []
  }
 ],
 "metadata": {
  "kernelspec": {
   "display_name": "Python 3 (ipykernel)",
   "language": "python",
   "name": "python3"
  },
  "language_info": {
   "codemirror_mode": {
    "name": "ipython",
    "version": 3
   },
   "file_extension": ".py",
   "mimetype": "text/x-python",
   "name": "python",
   "nbconvert_exporter": "python",
   "pygments_lexer": "ipython3",
   "version": "3.10.8"
  }
 },
 "nbformat": 4,
 "nbformat_minor": 5
}
