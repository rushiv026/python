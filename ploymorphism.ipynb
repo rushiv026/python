{
 "cells": [
  {
   "cell_type": "code",
   "execution_count": 1,
   "id": "38142539-c150-4e93-b4cf-eaf59e889f07",
   "metadata": {},
   "outputs": [],
   "source": [
    "#one item but differnt bahaviour\n",
    "\n",
    "def add(a,b):\n",
    "    return a+b"
   ]
  },
  {
   "cell_type": "code",
   "execution_count": 2,
   "id": "b7f162f0-ef73-446e-a656-9ada590273cf",
   "metadata": {},
   "outputs": [
    {
     "data": {
      "text/plain": [
       "5"
      ]
     },
     "execution_count": 2,
     "metadata": {},
     "output_type": "execute_result"
    }
   ],
   "source": [
    "add(2,3)"
   ]
  },
  {
   "cell_type": "code",
   "execution_count": 3,
   "id": "5d71292b-47c4-49f4-a261-6bc2725c723e",
   "metadata": {},
   "outputs": [
    {
     "data": {
      "text/plain": [
       "'rushi'"
      ]
     },
     "execution_count": 3,
     "metadata": {},
     "output_type": "execute_result"
    }
   ],
   "source": [
    "add(\"rus\",\"hi\")"
   ]
  },
  {
   "cell_type": "code",
   "execution_count": 4,
   "id": "72b3e029-2e50-4eb4-a6f3-6f3fdbffbf96",
   "metadata": {},
   "outputs": [
    {
     "data": {
      "text/plain": [
       "[1, 2, 3, 4, 5, 6, 7, 8, 9]"
      ]
     },
     "execution_count": 4,
     "metadata": {},
     "output_type": "execute_result"
    }
   ],
   "source": [
    "add([1,2,3,4],[5,6,7,8,9])"
   ]
  },
  {
   "cell_type": "code",
   "execution_count": 12,
   "id": "4a5c1de1-dbd8-46ca-aa02-6ba0427d81ed",
   "metadata": {},
   "outputs": [],
   "source": [
    "class science:\n",
    "    def syllabus(self):\n",
    "        print(\"this is your science classes syllabus\")"
   ]
  },
  {
   "cell_type": "code",
   "execution_count": 13,
   "id": "798429e5-a460-4b3c-8ef8-3493dd577078",
   "metadata": {},
   "outputs": [],
   "source": [
    "class arts:\n",
    "    def syllabus(self):\n",
    "        print(\"this is your arts classes syllabus\")"
   ]
  },
  {
   "cell_type": "code",
   "execution_count": 20,
   "id": "905c83c4-6573-456e-abff-7e44b3ddd3a8",
   "metadata": {},
   "outputs": [],
   "source": [
    "def class_obj(obj):\n",
    "    for i in obj:\n",
    "        i.syllabus()"
   ]
  },
  {
   "cell_type": "code",
   "execution_count": 23,
   "id": "b8261243-fdab-44ae-8731-6f30b986d995",
   "metadata": {},
   "outputs": [],
   "source": [
    "obj_science=science()\n",
    "obj_arts=arts()\n",
    "obj=[obj_science,obj_arts]"
   ]
  },
  {
   "cell_type": "code",
   "execution_count": 24,
   "id": "68039b84-4291-486f-af28-d5c044d9986e",
   "metadata": {},
   "outputs": [
    {
     "name": "stdout",
     "output_type": "stream",
     "text": [
      "this is your science classes syllabus\n",
      "this is your arts classes syllabus\n"
     ]
    }
   ],
   "source": [
    "class_obj(obj)"
   ]
  },
  {
   "cell_type": "code",
   "execution_count": null,
   "id": "9b80376d-9681-4bf3-be64-d3d595b0b46b",
   "metadata": {},
   "outputs": [],
   "source": []
  }
 ],
 "metadata": {
  "kernelspec": {
   "display_name": "Python 3 (ipykernel)",
   "language": "python",
   "name": "python3"
  },
  "language_info": {
   "codemirror_mode": {
    "name": "ipython",
    "version": 3
   },
   "file_extension": ".py",
   "mimetype": "text/x-python",
   "name": "python",
   "nbconvert_exporter": "python",
   "pygments_lexer": "ipython3",
   "version": "3.10.8"
  }
 },
 "nbformat": 4,
 "nbformat_minor": 5
}
