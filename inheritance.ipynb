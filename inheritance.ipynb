{
 "cells": [
  {
   "cell_type": "code",
   "execution_count": 9,
   "id": "00f89698-2b36-4c49-bd26-f91c42e82a05",
   "metadata": {},
   "outputs": [],
   "source": [
    "#single inheritance\n",
    "class parent:\n",
    "    def my(self):\n",
    "        return \"hello\""
   ]
  },
  {
   "cell_type": "code",
   "execution_count": 22,
   "id": "06e45301-6c26-4b56-b092-aa86ae46f20b",
   "metadata": {},
   "outputs": [],
   "source": [
    "class child(parent):\n",
    "    pass"
   ]
  },
  {
   "cell_type": "code",
   "execution_count": 23,
   "id": "f1b77a7a-34a3-4ee1-a6b4-ee1514c605ef",
   "metadata": {},
   "outputs": [],
   "source": [
    "c=child()"
   ]
  },
  {
   "cell_type": "code",
   "execution_count": 25,
   "id": "1d2d0cbe-9db4-4627-93f3-443b262e89e0",
   "metadata": {},
   "outputs": [
    {
     "data": {
      "text/plain": [
       "'hello'"
      ]
     },
     "execution_count": 25,
     "metadata": {},
     "output_type": "execute_result"
    }
   ],
   "source": [
    "c.my()"
   ]
  },
  {
   "cell_type": "code",
   "execution_count": 26,
   "id": "f859ee57-b89c-4973-ac7f-0775eaa0e7ca",
   "metadata": {},
   "outputs": [],
   "source": [
    "#multilevel inheritance\n",
    "\n",
    "class test1:\n",
    "    def test_1(self):\n",
    "        return \"this is first class\"\n",
    "    "
   ]
  },
  {
   "cell_type": "code",
   "execution_count": 27,
   "id": "330aeb4d-f618-40e7-a2cd-4f803fe6ef92",
   "metadata": {},
   "outputs": [],
   "source": [
    "class test2(test1):\n",
    "    def tast_2(self):\n",
    "        return \"this is second class\""
   ]
  },
  {
   "cell_type": "code",
   "execution_count": 28,
   "id": "5dfb5eb9-cf5b-498a-9dfe-773005cee74b",
   "metadata": {},
   "outputs": [],
   "source": [
    "class test3(test2):\n",
    "    pass"
   ]
  },
  {
   "cell_type": "code",
   "execution_count": 33,
   "id": "5bc42b4d-686a-4c9d-a79f-9ec7b5968780",
   "metadata": {},
   "outputs": [],
   "source": [
    "t=test3()"
   ]
  },
  {
   "cell_type": "code",
   "execution_count": 34,
   "id": "f9ebd459-b047-428f-8020-db2878089b15",
   "metadata": {},
   "outputs": [
    {
     "data": {
      "text/plain": [
       "'this is first class'"
      ]
     },
     "execution_count": 34,
     "metadata": {},
     "output_type": "execute_result"
    }
   ],
   "source": [
    "t.test_1()"
   ]
  },
  {
   "cell_type": "code",
   "execution_count": 35,
   "id": "6ef606e6-70a0-4c85-813b-da183ced2299",
   "metadata": {},
   "outputs": [
    {
     "data": {
      "text/plain": [
       "'this is second class'"
      ]
     },
     "execution_count": 35,
     "metadata": {},
     "output_type": "execute_result"
    }
   ],
   "source": [
    "t.tast_2()"
   ]
  },
  {
   "cell_type": "code",
   "execution_count": 44,
   "id": "0638c074-ec37-4e60-9a7b-a5f0a459b9ef",
   "metadata": {},
   "outputs": [],
   "source": [
    "#multiple inheritance\n",
    "class test4:\n",
    "    def test_4(self):\n",
    "        return \"this is first class\""
   ]
  },
  {
   "cell_type": "code",
   "execution_count": 45,
   "id": "bf783704-e143-4cec-a6c5-0868d7739fdf",
   "metadata": {},
   "outputs": [],
   "source": [
    "class test5:\n",
    "    def test_5(self):\n",
    "        return \"this is first class\""
   ]
  },
  {
   "cell_type": "code",
   "execution_count": 46,
   "id": "68494098-e029-402b-8730-e502d29349f1",
   "metadata": {},
   "outputs": [],
   "source": [
    "class test6(test4,test5):\n",
    "    \n",
    "    pass"
   ]
  },
  {
   "cell_type": "code",
   "execution_count": 47,
   "id": "3a5b0439-ad8a-4847-a503-9b570271e321",
   "metadata": {},
   "outputs": [],
   "source": [
    "t1=test6()"
   ]
  },
  {
   "cell_type": "code",
   "execution_count": 49,
   "id": "c5b896c4-2c48-4c2c-89a7-d4d7fddad490",
   "metadata": {},
   "outputs": [
    {
     "data": {
      "text/plain": [
       "'this is first class'"
      ]
     },
     "execution_count": 49,
     "metadata": {},
     "output_type": "execute_result"
    }
   ],
   "source": [
    "t1.test_4()\n"
   ]
  },
  {
   "cell_type": "code",
   "execution_count": 51,
   "id": "522bb2ca-1a2b-45e7-b737-9af1610332b1",
   "metadata": {},
   "outputs": [
    {
     "data": {
      "text/plain": [
       "'this is first class'"
      ]
     },
     "execution_count": 51,
     "metadata": {},
     "output_type": "execute_result"
    }
   ],
   "source": [
    "t1.test_5()"
   ]
  },
  {
   "cell_type": "code",
   "execution_count": null,
   "id": "81b0c449-6c3d-4e35-a7bf-ec21646a4e57",
   "metadata": {},
   "outputs": [],
   "source": []
  }
 ],
 "metadata": {
  "kernelspec": {
   "display_name": "Python 3 (ipykernel)",
   "language": "python",
   "name": "python3"
  },
  "language_info": {
   "codemirror_mode": {
    "name": "ipython",
    "version": 3
   },
   "file_extension": ".py",
   "mimetype": "text/x-python",
   "name": "python",
   "nbconvert_exporter": "python",
   "pygments_lexer": "ipython3",
   "version": "3.10.8"
  }
 },
 "nbformat": 4,
 "nbformat_minor": 5
}
