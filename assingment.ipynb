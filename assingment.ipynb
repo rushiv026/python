{
 "cells": [
  {
   "cell_type": "code",
   "execution_count": 8,
   "id": "127551bc-2e0f-4348-a2a3-c4fe6cb350ff",
   "metadata": {},
   "outputs": [],
   "source": [
    "#Q1. Explain Class and Object with respect to Object-Oriented Programming. Give a suitable example.\n",
    "'''class :-class is as a blueprint of object\n",
    "object:-object is called instance of class'''\n",
    "\n",
    "class demo:\n",
    "    def __init__(self,name):\n",
    "        self.name=name\n",
    "    def return_name(self):\n",
    "        return self.name"
   ]
  },
  {
   "cell_type": "code",
   "execution_count": 10,
   "id": "6ee8d72d-f6dc-4017-8d4c-9d776ec2d183",
   "metadata": {},
   "outputs": [],
   "source": [
    "#create an a object of the demo class\n",
    "obj=demo(\"data science\")"
   ]
  },
  {
   "cell_type": "code",
   "execution_count": 12,
   "id": "fc57c64d-c50b-48f6-8d45-29395679128b",
   "metadata": {},
   "outputs": [
    {
     "data": {
      "text/plain": [
       "'data science'"
      ]
     },
     "execution_count": 12,
     "metadata": {},
     "output_type": "execute_result"
    }
   ],
   "source": [
    "obj.return_name()"
   ]
  },
  {
   "cell_type": "code",
   "execution_count": 13,
   "id": "9512ad2a-cc92-4027-b450-6b1c72dbdd95",
   "metadata": {},
   "outputs": [],
   "source": [
    "#Q2. Name the four pillars of OOPs.\n",
    "'''\n",
    "1)abstraction\n",
    "2)ploymorphism\n",
    "3)inheritance\n",
    "4)encapsulation'''"
   ]
  },
  {
   "cell_type": "code",
   "execution_count": 15,
   "id": "4a73c2f5-d46d-4114-aa8f-bfd5c0dff15e",
   "metadata": {},
   "outputs": [],
   "source": [
    "#Q3. Explain why the __init__() function is used. Give a suitable example.\n",
    "'''init method:- lets the class initialize the object's attributes and serves no other purpose'''\n",
    "class demoint:\n",
    "    def __init__(self,name,grade):\n",
    "        self.name=name\n",
    "        self.grade=grade\n",
    "    def return_student_details(self):\n",
    "        return self.name,self.grade"
   ]
  },
  {
   "cell_type": "code",
   "execution_count": 18,
   "id": "36f7fa07-c049-4eab-bfb6-9df0b371877b",
   "metadata": {},
   "outputs": [],
   "source": [
    "d=demoint(\"pravin\",\"A+\")\n"
   ]
  },
  {
   "cell_type": "code",
   "execution_count": 19,
   "id": "51cf398c-b218-49ab-a5a4-68f1723003d3",
   "metadata": {},
   "outputs": [
    {
     "data": {
      "text/plain": [
       "('pravin', 'A+')"
      ]
     },
     "execution_count": 19,
     "metadata": {},
     "output_type": "execute_result"
    }
   ],
   "source": [
    "d.return_student_details()"
   ]
  },
  {
   "cell_type": "code",
   "execution_count": 20,
   "id": "5d7d36ea-cdfe-4bdd-a109-29336ea545b6",
   "metadata": {},
   "outputs": [],
   "source": [
    "#Q4. Why self is used in OOPs?\n",
    "'''self:- self keyword use  the intance of class\n",
    "          self keyword is not reserve keyword you can use any other keywordtothe repalce self'''\n",
    "\n",
    "class demo:\n",
    "    def __init__(self,name):\n",
    "        self.name=name"
   ]
  },
  {
   "cell_type": "code",
   "execution_count": 21,
   "id": "2300553b-5889-4372-a9eb-6da66ab8c07a",
   "metadata": {},
   "outputs": [
    {
     "data": {
      "text/plain": [
       "'Inheritance allows us to define a class that inherits all the methods and properties from another class\\n1)single\\n2)multilevel\\n3)multiple \\n'"
      ]
     },
     "execution_count": 21,
     "metadata": {},
     "output_type": "execute_result"
    }
   ],
   "source": [
    "#Q5. What is inheritance? Give an example for each type of inheritance.\n",
    "'''Inheritance allows us to define a class that inherits all the methods and properties from another class\n",
    "1)single\n",
    "2)multilevel\n",
    "3)multiple \n",
    "'''"
   ]
  },
  {
   "cell_type": "code",
   "execution_count": 22,
   "id": "4ffc4337-11a1-4c4c-898c-ffae2af8c5a9",
   "metadata": {},
   "outputs": [],
   "source": [
    "#single inheritance\n",
    "class parent:\n",
    "    def my(self):\n",
    "        return \"hello\""
   ]
  },
  {
   "cell_type": "code",
   "execution_count": 23,
   "id": "6d58a08f-4bc6-428b-8347-5bfde71621b8",
   "metadata": {},
   "outputs": [],
   "source": [
    "class child(parent):\n",
    "    pass"
   ]
  },
  {
   "cell_type": "code",
   "execution_count": 24,
   "id": "1c9aa929-77c8-4b89-afb6-22b18cc809c8",
   "metadata": {},
   "outputs": [],
   "source": [
    "c=child()"
   ]
  },
  {
   "cell_type": "code",
   "execution_count": 25,
   "id": "c8e2b954-1407-4317-82c6-b0c6947459c2",
   "metadata": {},
   "outputs": [
    {
     "data": {
      "text/plain": [
       "'hello'"
      ]
     },
     "execution_count": 25,
     "metadata": {},
     "output_type": "execute_result"
    }
   ],
   "source": [
    "c.my()"
   ]
  },
  {
   "cell_type": "code",
   "execution_count": 26,
   "id": "290458bb-adec-47d7-8ba5-09f9d09509ca",
   "metadata": {},
   "outputs": [],
   "source": [
    "#multilevel inheritance\n",
    "class parent:\n",
    "    def my(self):\n",
    "        return \"hello\"\n",
    "class child(parent):\n",
    "    def my1(self):\n",
    "        return \"welcome\"\n",
    "class child1(child):\n",
    "    pass"
   ]
  },
  {
   "cell_type": "code",
   "execution_count": 27,
   "id": "47f6cabb-358d-440c-8364-aea20aaea3e7",
   "metadata": {
    "jupyter": {
     "source_hidden": true
    },
    "tags": []
   },
   "outputs": [],
   "source": [
    "c=child1()"
   ]
  },
  {
   "cell_type": "code",
   "execution_count": 28,
   "id": "7e73be38-6434-47a3-8212-c4ed72fc535c",
   "metadata": {},
   "outputs": [
    {
     "data": {
      "text/plain": [
       "'hello'"
      ]
     },
     "execution_count": 28,
     "metadata": {},
     "output_type": "execute_result"
    }
   ],
   "source": [
    "c.my()"
   ]
  },
  {
   "cell_type": "code",
   "execution_count": 29,
   "id": "d928d232-b5b6-40c6-acb0-3c0654cc2aa7",
   "metadata": {},
   "outputs": [
    {
     "data": {
      "text/plain": [
       "'welcome'"
      ]
     },
     "execution_count": 29,
     "metadata": {},
     "output_type": "execute_result"
    }
   ],
   "source": [
    "c.my1()"
   ]
  },
  {
   "cell_type": "code",
   "execution_count": 30,
   "id": "378f3038-98cf-4b25-8071-89cd5664e0ed",
   "metadata": {},
   "outputs": [],
   "source": [
    "#multiple inheritance\n",
    "class test4:\n",
    "    def test_4(self):\n",
    "        return \"this is first class\"\n",
    "class test5:\n",
    "    def test_5(self):\n",
    "        return \"this is first class\"\n",
    "class test6(test4,test5):\n",
    "    pass"
   ]
  },
  {
   "cell_type": "code",
   "execution_count": 33,
   "id": "7f322012-cd88-46f3-bd63-0cdaee18fbca",
   "metadata": {},
   "outputs": [],
   "source": [
    "t1=test6()\n"
   ]
  },
  {
   "cell_type": "code",
   "execution_count": 35,
   "id": "3189be43-5646-4356-bdb2-4aca5de478c5",
   "metadata": {},
   "outputs": [
    {
     "data": {
      "text/plain": [
       "'this is first class'"
      ]
     },
     "execution_count": 35,
     "metadata": {},
     "output_type": "execute_result"
    }
   ],
   "source": [
    "t1.test_4()\n"
   ]
  },
  {
   "cell_type": "code",
   "execution_count": 37,
   "id": "d1a7759d-f026-4ef1-a744-05d8d64acc32",
   "metadata": {},
   "outputs": [
    {
     "data": {
      "text/plain": [
       "'this is first class'"
      ]
     },
     "execution_count": 37,
     "metadata": {},
     "output_type": "execute_result"
    }
   ],
   "source": [
    "t1.test_5()"
   ]
  },
  {
   "cell_type": "code",
   "execution_count": null,
   "id": "cd1d8f62-14b5-4635-9b30-52c97b070d94",
   "metadata": {},
   "outputs": [],
   "source": []
  }
 ],
 "metadata": {
  "kernelspec": {
   "display_name": "Python 3 (ipykernel)",
   "language": "python",
   "name": "python3"
  },
  "language_info": {
   "codemirror_mode": {
    "name": "ipython",
    "version": 3
   },
   "file_extension": ".py",
   "mimetype": "text/x-python",
   "name": "python",
   "nbconvert_exporter": "python",
   "pygments_lexer": "ipython3",
   "version": "3.10.8"
  }
 },
 "nbformat": 4,
 "nbformat_minor": 5
}
